{
  "nbformat": 4,
  "nbformat_minor": 0,
  "metadata": {
    "colab": {
      "name": "wolt-polygon.ipynb",
      "provenance": [],
      "collapsed_sections": []
    },
    "kernelspec": {
      "name": "python3",
      "display_name": "Python 3"
    },
    "language_info": {
      "name": "python"
    }
  },
  "cells": [
    {
      "cell_type": "code",
      "source": [
        "import requests"
      ],
      "metadata": {
        "id": "4_2IXusYyRHf"
      },
      "execution_count": 1,
      "outputs": []
    },
    {
      "cell_type": "code",
      "source": [
        "import pandas as pd"
      ],
      "metadata": {
        "id": "40PZOez91J8a"
      },
      "execution_count": 2,
      "outputs": []
    },
    {
      "cell_type": "code",
      "source": [
        "%%capture\n",
        "!pip install geopandas"
      ],
      "metadata": {
        "id": "XOfvF-745scf"
      },
      "execution_count": 3,
      "outputs": []
    },
    {
      "cell_type": "code",
      "source": [
        "import geopandas"
      ],
      "metadata": {
        "id": "rn9QTZeamtm-"
      },
      "execution_count": 4,
      "outputs": []
    },
    {
      "cell_type": "code",
      "source": [
        "kungsholmen_kitchens = {\n",
        "    \"Curb Kungsholmen\": \"curb-kungsholmen\",\n",
        "    \"Macka Kungsholmen\": \"macka-kungsholmen\",\n",
        "    \"Kebab Kungsholmen\": \"kebab-kungsholmen\",\n",
        "    \"El Burro Burrito Kungsholmen\": \"el-burro-kungsholmen\",\n",
        "    \"Italian Sin Pizza Kungsholmen\": \"italian-sin-kungsholmen\",\n",
        "    \"Bah-Gawk! Wings Kungsholmen\": \"bah-gawk-wings-kungsholmen\",\n",
        "    \"Birria Taco & Quesadilla Kungsholmen\": \"birria-taco-quesadilla\",\n",
        "    \"Candie Salad Kungsholmen\": \"candie-kungsholmen\",\n",
        "    \"India Street Kungsholmen\": \"streety-indian-kungsholmen\",\n",
        "    \"Wrap It Kungsholmen\": \"wrap-it-kungsholmen\"\n",
        "}\n",
        "\n"
      ],
      "metadata": {
        "id": "xDPyVzjAyUBu"
      },
      "execution_count": 5,
      "outputs": []
    },
    {
      "cell_type": "code",
      "source": [
        "uppsala_kitchens = {    \n",
        "    \"Curb Uppsala\": \"curb-uppsala\",\n",
        "    \"Bah-Gawk! Wings Uppsala\": \"bah-gawk-wings-uppsala\",\n",
        "    \"Birra Taco & Quesadilla Uppsala\": \"birra-taco-quesadilla-uppsala\",\n",
        "    \"Italian Sin Pizza Uppsala\": \"italian-sin-pizza-upsala\",\n",
        "    \"Kebab Uppsala\": \"kebab-uppsala\",\n",
        "    \"Macka Uppsala\": \"macka-uppsala\",\n",
        "    \"Candie Uppsala\": \"candie-uppsala\",\n",
        "    \"India Street Uppsala\": \"streety-indian-uppsala\"\n",
        "    }"
      ],
      "metadata": {
        "id": "QdVj2YgpqqUC"
      },
      "execution_count": 6,
      "outputs": []
    },
    {
      "cell_type": "code",
      "source": [
        "arsta_kitchens = {\n",
        "    \"Curb Årsta\": \"curb-rsta\",\n",
        "    \"Macka Årsta\": \"macka-rsta\",\n",
        "    \"Kebab Årsta\": \"kebab-rsta\",\n",
        "    \"Birria Taco & Quesadilla Årsta\": \"birria-taco-quesadilla-rsta\",\n",
        "    \"Wrap It Årsta\": \"wrap-it-rsta\",\n",
        "    \"Candie Salad Årsta\": \"candie-salad-rsta\",\n",
        "    \"India Street Årsta\": \"streety-indian-rsta\",\n",
        "    \"Italian Sin Pizza Årsta\": \"italian-sin-pizza-rsta\",\n",
        "    \"Bah-Gawk! Wings Årsta\": \"bah-gawk-wings-rsta\"\n",
        "}"
      ],
      "metadata": {
        "id": "mh8FyoLYvver"
      },
      "execution_count": 7,
      "outputs": []
    },
    {
      "cell_type": "code",
      "source": [
        "# iterables = [kitchens.keys(), [\"L1\", \"L2\"]]\n",
        "# index = pd.MultiIndex.from_product(iterables)"
      ],
      "metadata": {
        "id": "BEHmqqqx2D50"
      },
      "execution_count": 8,
      "outputs": []
    },
    {
      "cell_type": "code",
      "source": [
        "kungsholmen_kitchens_polygon_coordinates = pd.DataFrame(columns=kungsholmen_kitchens.keys())\n",
        "\n",
        "uppsala_kitchens_polygon_coordinates = pd.DataFrame(columns=uppsala_kitchens.keys())\n",
        "\n",
        "arsta_kitchens_polygon_coordinates = pd.DataFrame(columns=arsta_kitchens.keys())"
      ],
      "metadata": {
        "id": "kgLr5pV01DwT"
      },
      "execution_count": 9,
      "outputs": []
    },
    {
      "cell_type": "code",
      "source": [
        "# print(kungsholmen_kitchens_polygon_coordinates)\n",
        "# print(uppsala_kitchens_polygon_coordinates)\n",
        "# print(arsta_kitchens_polygon_coordinates)"
      ],
      "metadata": {
        "id": "9HRe42i83Ett"
      },
      "execution_count": 10,
      "outputs": []
    },
    {
      "cell_type": "code",
      "source": [
        "def scrape_coordinates(kitchen):\n",
        "  URL = f\"https://restaurant-api.wolt.com/v3/venues/slug/{kitchen}\"\n",
        "\n",
        "  response = requests.get(url=URL)\n",
        "  scraped_data = response.json()\n",
        "  coordinates = scraped_data[\"results\"][0][\"delivery_specs\"][\"geo_range\"][\"coordinates\"][0]\n",
        "\n",
        "  return coordinates"
      ],
      "metadata": {
        "id": "WyFgt_x7AfjG"
      },
      "execution_count": 11,
      "outputs": []
    },
    {
      "cell_type": "code",
      "source": [
        "# len(scrape_coordinates(\"candie-kungsholmen\"))"
      ],
      "metadata": {
        "id": "2GndEhfKBIUN"
      },
      "execution_count": 12,
      "outputs": []
    },
    {
      "cell_type": "code",
      "source": [
        "for kitchen, kitchen_polygon_coordinates  in [(kungsholmen_kitchens, kungsholmen_kitchens_polygon_coordinates), \\\n",
        "                                              (uppsala_kitchens, uppsala_kitchens_polygon_coordinates), \\\n",
        "                                              (arsta_kitchens, arsta_kitchens_polygon_coordinates)]:\n",
        "  for k in kitchen:\n",
        "    kitchen_polygon_coordinates[k] = scrape_coordinates(kitchen[k])"
      ],
      "metadata": {
        "id": "MFhip5GBAjSl"
      },
      "execution_count": 13,
      "outputs": []
    },
    {
      "cell_type": "code",
      "source": [
        "# kungsholmen_kitchens_polygon_coordinates"
      ],
      "metadata": {
        "id": "3qtHZvEitJiJ"
      },
      "execution_count": 14,
      "outputs": []
    },
    {
      "cell_type": "code",
      "source": [
        "# uppsala_kitchens_polygon_coordinates"
      ],
      "metadata": {
        "id": "YMaQ7rghyPMW"
      },
      "execution_count": 15,
      "outputs": []
    },
    {
      "cell_type": "code",
      "source": [
        "# arsta_kitchens_polygon_coordinates"
      ],
      "metadata": {
        "id": "Ug5XmUxO1krL"
      },
      "execution_count": 16,
      "outputs": []
    },
    {
      "cell_type": "markdown",
      "source": [
        "##Visualization"
      ],
      "metadata": {
        "id": "Bht69Igp9Ywj"
      }
    },
    {
      "cell_type": "code",
      "source": [
        "from shapely.geometry import Point, Polygon, LineString, GeometryCollection"
      ],
      "metadata": {
        "id": "i0FjdrQn2nVV"
      },
      "execution_count": 17,
      "outputs": []
    },
    {
      "cell_type": "code",
      "source": [
        "import numpy as np"
      ],
      "metadata": {
        "id": "obuxCAEaDkBi"
      },
      "execution_count": 18,
      "outputs": []
    },
    {
      "cell_type": "code",
      "source": [
        "import geopandas as gpd"
      ],
      "metadata": {
        "id": "Y-jfK5VZ6C-J"
      },
      "execution_count": 19,
      "outputs": []
    },
    {
      "cell_type": "code",
      "source": [
        "kungsholmen_poly = Polygon(kungsholmen_kitchens_polygon_coordinates[\"Kebab Kungsholmen\"])"
      ],
      "metadata": {
        "id": "CoPBJTeRGhGu"
      },
      "execution_count": 20,
      "outputs": []
    },
    {
      "cell_type": "code",
      "source": [
        "kungsholmen_poly"
      ],
      "metadata": {
        "colab": {
          "base_uri": "https://localhost:8080/",
          "height": 121
        },
        "id": "8mHZAh70Gk6H",
        "outputId": "5f6d26f7-6bee-4884-c6cf-d8413a958b48"
      },
      "execution_count": 21,
      "outputs": [
        {
          "output_type": "execute_result",
          "data": {
            "text/plain": [
              "<shapely.geometry.polygon.Polygon at 0x7f9df9d265d0>"
            ],
            "image/svg+xml": "<svg xmlns=\"http://www.w3.org/2000/svg\" xmlns:xlink=\"http://www.w3.org/1999/xlink\" width=\"100.0\" height=\"100.0\" viewBox=\"17.92151873193678 59.282237318366036 0.19043373612644388 0.10371871158843504\" preserveAspectRatio=\"xMinYMin meet\"><g transform=\"matrix(1,0,0,-1,0,118.6681933483205)\"><path fill-rule=\"evenodd\" fill=\"#66cc99\" stroke=\"#555555\" stroke-width=\"0.0038086747225288776\" opacity=\"0.6\" d=\"M 17.93271715029998,59.32138842585422 L 17.930288194717345,59.3254554359804 L 17.928571833274795,59.33422674222236 L 17.930243539219077,59.3430003136345 L 17.935241613783102,59.35143885971286 L 17.94337614555177,59.35921772599728 L 17.95433597815554,59.36603742583491 L 17.967700445428914,59.37163523305625 L 17.982955457522188,59.37579537735369 L 17.999513332482447,59.37835743543827 L 18.010372357257857,59.378902928616455 L 18.015715625628133,59.37686194208291 L 18.021338909191314,59.375390997723855 L 18.027827291650226,59.37261074562011 L 18.03659450522133,59.36995822517861 L 18.039582324888983,59.372356126380765 L 18.055124784027445,59.3745384607546 L 18.06577075457109,59.37163523305625 L 18.079135221844464,59.36603742583491 L 18.090095054448234,59.35921772599728 L 18.098229586216902,59.35143885971286 L 18.103227660780927,59.3430003136345 L 18.104899366725206,59.33422674222236 L 18.10418367636976,59.33056927292341 L 18.1007632207791,59.33061102321466 L 18.094102601276887,59.3311855541495 L 18.08432473488574,59.32999855168623 L 18.07887997784195,59.32736358456748 L 18.072266832382297,59.328994833764455 L 18.060400572387948,59.32703182226504 L 18.057066939977943,59.326839716912616 L 18.059432050129658,59.31768190319414 L 18.062792700062744,59.304324075937956 L 18.065231912042567,59.29674192898211 L 18.050433229598877,59.292708906775296 L 18.033913211849317,59.29015329938001 L 18.0167356,59.28929041970405 L 17.999557988150688,59.29015329938001 L 17.983037970401124,59.292708906775296 L 17.967808253628636,59.29685939694093 L 17.95445266881808,59.302445816348005 L 17.94804268134521,59.306424513389004 L 17.955669321375183,59.31305102172101 L 17.93271715029998,59.32138842585422 z\" /></g></svg>"
          },
          "metadata": {},
          "execution_count": 21
        }
      ]
    },
    {
      "cell_type": "code",
      "source": [
        "arsta_poly = Polygon(arsta_kitchens_polygon_coordinates[\"Kebab Årsta\"])"
      ],
      "metadata": {
        "id": "FHwiR3FjGsH_"
      },
      "execution_count": 22,
      "outputs": []
    },
    {
      "cell_type": "code",
      "source": [
        "arsta_poly"
      ],
      "metadata": {
        "colab": {
          "base_uri": "https://localhost:8080/",
          "height": 121
        },
        "id": "_s-Ito-rHO-c",
        "outputId": "ab9036c1-a391-4ca8-90aa-274d1f6be2d0"
      },
      "execution_count": 23,
      "outputs": [
        {
          "output_type": "execute_result",
          "data": {
            "text/plain": [
              "<shapely.geometry.polygon.Polygon at 0x7f9df984f8d0>"
            ],
            "image/svg+xml": "<svg xmlns=\"http://www.w3.org/2000/svg\" xmlns:xlink=\"http://www.w3.org/1999/xlink\" width=\"100.0\" height=\"100.0\" viewBox=\"17.90020310173651 59.2427843049158 0.2663055965269834 0.11241291029651279\" preserveAspectRatio=\"xMinYMin meet\"><g transform=\"matrix(1,0,0,-1,0,118.59798152012812)\"><path fill-rule=\"evenodd\" fill=\"#66cc99\" stroke=\"#555555\" stroke-width=\"0.005326111930539668\" opacity=\"0.6\" d=\"M 17.922651170254124,59.26867590358577 L 17.9195317006188,59.27164684818523 L 17.9124788707541,59.28344997709076 L 17.91006627197825,59.29572916394549 L 17.91034851736584,59.29722014787427 L 17.914593235665194,59.29849963232229 L 17.94116034111795,59.30385073209149 L 17.966298437554343,59.309908342685446 L 17.977630905086727,59.31915844066097 L 17.986503730221784,59.32693925321189 L 17.9930471457196,59.33333291030493 L 17.99745593304675,59.341244455488805 L 18.012611956259235,59.34533404497057 L 18.04119174166277,59.3363805256152 L 18.039884252168633,59.32608428141455 L 18.0556010504107,59.32577959774085 L 18.073945301386004,59.328658290170154 L 18.09048317860814,59.32043656470137 L 18.10882742958418,59.316486823316296 L 18.134160375755556,59.318481272882394 L 18.14734119451261,59.31982872782968 L 18.147341394111372,59.31982853657573 L 18.154320221248643,59.3080127837338 L 18.156645528021752,59.29572916394549 L 18.1542329292459,59.28344997709076 L 18.1471800993812,59.27164684818523 L 18.13699897102357,59.261950466477295 L 18.132646601959607,59.261464600466184 L 18.105454791788446,59.25955787776505 L 18.079523749502016,59.258067607409146 L 18.01402108462159,59.25615413841834 L 17.99800540901788,59.252647475157545 L 17.924888995779952,59.266889478233026 L 17.922651170254124,59.26867590358577 z\" /></g></svg>"
          },
          "metadata": {},
          "execution_count": 23
        }
      ]
    },
    {
      "cell_type": "code",
      "source": [
        "uppsala_poly = Polygon(uppsala_kitchens_polygon_coordinates[\"Kebab Uppsala\"])"
      ],
      "metadata": {
        "id": "taF8WgvrHRJs"
      },
      "execution_count": 24,
      "outputs": []
    },
    {
      "cell_type": "code",
      "source": [
        "uppsala_poly"
      ],
      "metadata": {
        "colab": {
          "base_uri": "https://localhost:8080/",
          "height": 121
        },
        "id": "UdnwEE3zHxyX",
        "outputId": "7fffbd92-ac6c-425f-9a69-f727ccab6b74"
      },
      "execution_count": 25,
      "outputs": [
        {
          "output_type": "execute_result",
          "data": {
            "text/plain": [
              "<shapely.geometry.polygon.Polygon at 0x7f9df9855910>"
            ],
            "image/svg+xml": "<svg xmlns=\"http://www.w3.org/2000/svg\" xmlns:xlink=\"http://www.w3.org/1999/xlink\" width=\"100.0\" height=\"100.0\" viewBox=\"17.542080441966494 59.80354740610328 0.18208273810628128 0.10007890315645795\" preserveAspectRatio=\"xMinYMin meet\"><g transform=\"matrix(1,0,0,-1,0,119.70717371536301)\"><path fill-rule=\"evenodd\" fill=\"#66cc99\" stroke=\"#555555\" stroke-width=\"0.003641654762125626\" opacity=\"0.6\" d=\"M 17.58319329281514,59.87820801216597 L 17.591183505706738,59.882046390003865 L 17.596225223627783,59.88224452018099 L 17.60310554653492,59.8826074629595 L 17.607692595577618,59.883534000186216 L 17.613741460700936,59.88545052167595 L 17.629810244141254,59.88858906518894 L 17.636076774900943,59.896882504144685 L 17.64846003992136,59.8965764655656 L 17.669786811606457,59.88818441993516 L 17.68662377116769,59.88175423979962 L 17.701972153973912,59.87221506650954 L 17.708969803197334,59.86758188790637 L 17.71741937495773,59.86353748843615 L 17.716396230178475,59.86040536763028 L 17.707239519759156,59.849165970265574 L 17.70126874563084,59.84486898237236 L 17.696340656526843,59.843717947810546 L 17.69141256742418,59.84339046905066 L 17.68062706135322,59.83857039471533 L 17.661721252590326,59.83103915664182 L 17.66653366731694,59.82598735300391 L 17.66907812083153,59.8211678320547 L 17.669659116831667,59.81632515844669 L 17.67114639648844,59.81327788924645 L 17.660847971566568,59.81029121121833 L 17.64994630621439,59.81305362109916 L 17.642115148203715,59.812439956890785 L 17.637061036413314,59.81328916457403 L 17.62634050007992,59.81175239132844 L 17.609750016656648,59.814916993877205 L 17.597476721048736,59.82193152950791 L 17.569582642099306,59.837523825255545 L 17.55549387049365,59.84577985289371 L 17.54977983773452,59.8496671069351 L 17.54882424708154,59.854803084890705 L 17.58319329281514,59.87820801216597 z\" /></g></svg>"
          },
          "metadata": {},
          "execution_count": 25
        }
      ]
    },
    {
      "cell_type": "markdown",
      "source": [
        "## Load the geo-encoded address"
      ],
      "metadata": {
        "id": "CGvGdkRzERp8"
      }
    },
    {
      "cell_type": "code",
      "source": [
        "import pickle\n",
        "\n",
        "data_1 = pickle.load(open(\"/content/drive/MyDrive/Curb Food/address_geocoded_additional.pkl\", \"rb\"))\n",
        "data_2 = pickle.load(open(\"/content/drive/MyDrive/Curb Food/address_geocoded.pkl\", \"rb\"))\n",
        "data_3 = pickle.load(open(\"/content/drive/MyDrive/Curb Food/address_geocoded_helsingborgs.pkl\", \"rb\"))\n",
        "\n",
        "data = data_1 + data_2 + data_3\n",
        "df_mapper = pd.DataFrame(data)\n",
        "\n",
        "\n",
        "df_mapper = df_mapper.dropna(subset=[\"location\"])\n",
        "df_mapper[\"point\"] = df_mapper[\"location\"].apply(lambda loc: tuple(loc.point) if loc else None)\n",
        "df_mapper[['latitude', 'longitude', 'altitude']] = pd.DataFrame(df_mapper['point'].tolist(), index=df_mapper.index)\n",
        "\n",
        "df_mapper.head()"
      ],
      "metadata": {
        "colab": {
          "base_uri": "https://localhost:8080/",
          "height": 206
        },
        "id": "u5CiUKo66gjk",
        "outputId": "9824b9e9-eb6b-48b5-a88b-ff62885c627a"
      },
      "execution_count": 26,
      "outputs": [
        {
          "output_type": "execute_result",
          "data": {
            "text/plain": [
              "                                             address  \\\n",
              "2         Tidagränd 26  ,  128 43  , Bagarmossen, SE   \n",
              "15  Drottningholmsvägen 308  ,  167 31  , Bromma, SE   \n",
              "16  Drottningholmsvägen 306  ,  167 31  , Bromma, SE   \n",
              "17  Drottningholmsvägen 298  ,  167 31  , Bromma, SE   \n",
              "18  Drottningholmsvägen 274  ,  167 31  , Bromma, SE   \n",
              "\n",
              "                                             location  \\\n",
              "2   (Tidagränd, Bagarmossen, Skarpnäcks stadsdelso...   \n",
              "15  (308, Drottningholmsvägen, Ulvsunda, Bromma st...   \n",
              "16  (306, Drottningholmsvägen, Ulvsunda, Bromma st...   \n",
              "17  (298, Drottningholmsvägen, Ulvsunda, Bromma st...   \n",
              "18  (274, Drottningholmsvägen, Ulvsunda, Bromma st...   \n",
              "\n",
              "                            point   latitude  longitude  altitude  \n",
              "2   (59.2713083, 18.1365033, 0.0)  59.271308  18.136503       0.0  \n",
              "15  (59.3368639, 17.9564002, 0.0)  59.336864  17.956400       0.0  \n",
              "16  (59.3369841, 17.9564832, 0.0)  59.336984  17.956483       0.0  \n",
              "17  (59.3367403, 17.9577341, 0.0)  59.336740  17.957734       0.0  \n",
              "18    (59.33565, 17.9626171, 0.0)  59.335650  17.962617       0.0  "
            ],
            "text/html": [
              "\n",
              "  <div id=\"df-5dc13d61-955d-42cd-8e72-be41d3b2d1bd\">\n",
              "    <div class=\"colab-df-container\">\n",
              "      <div>\n",
              "<style scoped>\n",
              "    .dataframe tbody tr th:only-of-type {\n",
              "        vertical-align: middle;\n",
              "    }\n",
              "\n",
              "    .dataframe tbody tr th {\n",
              "        vertical-align: top;\n",
              "    }\n",
              "\n",
              "    .dataframe thead th {\n",
              "        text-align: right;\n",
              "    }\n",
              "</style>\n",
              "<table border=\"1\" class=\"dataframe\">\n",
              "  <thead>\n",
              "    <tr style=\"text-align: right;\">\n",
              "      <th></th>\n",
              "      <th>address</th>\n",
              "      <th>location</th>\n",
              "      <th>point</th>\n",
              "      <th>latitude</th>\n",
              "      <th>longitude</th>\n",
              "      <th>altitude</th>\n",
              "    </tr>\n",
              "  </thead>\n",
              "  <tbody>\n",
              "    <tr>\n",
              "      <th>2</th>\n",
              "      <td>Tidagränd 26  ,  128 43  , Bagarmossen, SE</td>\n",
              "      <td>(Tidagränd, Bagarmossen, Skarpnäcks stadsdelso...</td>\n",
              "      <td>(59.2713083, 18.1365033, 0.0)</td>\n",
              "      <td>59.271308</td>\n",
              "      <td>18.136503</td>\n",
              "      <td>0.0</td>\n",
              "    </tr>\n",
              "    <tr>\n",
              "      <th>15</th>\n",
              "      <td>Drottningholmsvägen 308  ,  167 31  , Bromma, SE</td>\n",
              "      <td>(308, Drottningholmsvägen, Ulvsunda, Bromma st...</td>\n",
              "      <td>(59.3368639, 17.9564002, 0.0)</td>\n",
              "      <td>59.336864</td>\n",
              "      <td>17.956400</td>\n",
              "      <td>0.0</td>\n",
              "    </tr>\n",
              "    <tr>\n",
              "      <th>16</th>\n",
              "      <td>Drottningholmsvägen 306  ,  167 31  , Bromma, SE</td>\n",
              "      <td>(306, Drottningholmsvägen, Ulvsunda, Bromma st...</td>\n",
              "      <td>(59.3369841, 17.9564832, 0.0)</td>\n",
              "      <td>59.336984</td>\n",
              "      <td>17.956483</td>\n",
              "      <td>0.0</td>\n",
              "    </tr>\n",
              "    <tr>\n",
              "      <th>17</th>\n",
              "      <td>Drottningholmsvägen 298  ,  167 31  , Bromma, SE</td>\n",
              "      <td>(298, Drottningholmsvägen, Ulvsunda, Bromma st...</td>\n",
              "      <td>(59.3367403, 17.9577341, 0.0)</td>\n",
              "      <td>59.336740</td>\n",
              "      <td>17.957734</td>\n",
              "      <td>0.0</td>\n",
              "    </tr>\n",
              "    <tr>\n",
              "      <th>18</th>\n",
              "      <td>Drottningholmsvägen 274  ,  167 31  , Bromma, SE</td>\n",
              "      <td>(274, Drottningholmsvägen, Ulvsunda, Bromma st...</td>\n",
              "      <td>(59.33565, 17.9626171, 0.0)</td>\n",
              "      <td>59.335650</td>\n",
              "      <td>17.962617</td>\n",
              "      <td>0.0</td>\n",
              "    </tr>\n",
              "  </tbody>\n",
              "</table>\n",
              "</div>\n",
              "      <button class=\"colab-df-convert\" onclick=\"convertToInteractive('df-5dc13d61-955d-42cd-8e72-be41d3b2d1bd')\"\n",
              "              title=\"Convert this dataframe to an interactive table.\"\n",
              "              style=\"display:none;\">\n",
              "        \n",
              "  <svg xmlns=\"http://www.w3.org/2000/svg\" height=\"24px\"viewBox=\"0 0 24 24\"\n",
              "       width=\"24px\">\n",
              "    <path d=\"M0 0h24v24H0V0z\" fill=\"none\"/>\n",
              "    <path d=\"M18.56 5.44l.94 2.06.94-2.06 2.06-.94-2.06-.94-.94-2.06-.94 2.06-2.06.94zm-11 1L8.5 8.5l.94-2.06 2.06-.94-2.06-.94L8.5 2.5l-.94 2.06-2.06.94zm10 10l.94 2.06.94-2.06 2.06-.94-2.06-.94-.94-2.06-.94 2.06-2.06.94z\"/><path d=\"M17.41 7.96l-1.37-1.37c-.4-.4-.92-.59-1.43-.59-.52 0-1.04.2-1.43.59L10.3 9.45l-7.72 7.72c-.78.78-.78 2.05 0 2.83L4 21.41c.39.39.9.59 1.41.59.51 0 1.02-.2 1.41-.59l7.78-7.78 2.81-2.81c.8-.78.8-2.07 0-2.86zM5.41 20L4 18.59l7.72-7.72 1.47 1.35L5.41 20z\"/>\n",
              "  </svg>\n",
              "      </button>\n",
              "      \n",
              "  <style>\n",
              "    .colab-df-container {\n",
              "      display:flex;\n",
              "      flex-wrap:wrap;\n",
              "      gap: 12px;\n",
              "    }\n",
              "\n",
              "    .colab-df-convert {\n",
              "      background-color: #E8F0FE;\n",
              "      border: none;\n",
              "      border-radius: 50%;\n",
              "      cursor: pointer;\n",
              "      display: none;\n",
              "      fill: #1967D2;\n",
              "      height: 32px;\n",
              "      padding: 0 0 0 0;\n",
              "      width: 32px;\n",
              "    }\n",
              "\n",
              "    .colab-df-convert:hover {\n",
              "      background-color: #E2EBFA;\n",
              "      box-shadow: 0px 1px 2px rgba(60, 64, 67, 0.3), 0px 1px 3px 1px rgba(60, 64, 67, 0.15);\n",
              "      fill: #174EA6;\n",
              "    }\n",
              "\n",
              "    [theme=dark] .colab-df-convert {\n",
              "      background-color: #3B4455;\n",
              "      fill: #D2E3FC;\n",
              "    }\n",
              "\n",
              "    [theme=dark] .colab-df-convert:hover {\n",
              "      background-color: #434B5C;\n",
              "      box-shadow: 0px 1px 3px 1px rgba(0, 0, 0, 0.15);\n",
              "      filter: drop-shadow(0px 1px 2px rgba(0, 0, 0, 0.3));\n",
              "      fill: #FFFFFF;\n",
              "    }\n",
              "  </style>\n",
              "\n",
              "      <script>\n",
              "        const buttonEl =\n",
              "          document.querySelector('#df-5dc13d61-955d-42cd-8e72-be41d3b2d1bd button.colab-df-convert');\n",
              "        buttonEl.style.display =\n",
              "          google.colab.kernel.accessAllowed ? 'block' : 'none';\n",
              "\n",
              "        async function convertToInteractive(key) {\n",
              "          const element = document.querySelector('#df-5dc13d61-955d-42cd-8e72-be41d3b2d1bd');\n",
              "          const dataTable =\n",
              "            await google.colab.kernel.invokeFunction('convertToInteractive',\n",
              "                                                     [key], {});\n",
              "          if (!dataTable) return;\n",
              "\n",
              "          const docLinkHtml = 'Like what you see? Visit the ' +\n",
              "            '<a target=\"_blank\" href=https://colab.research.google.com/notebooks/data_table.ipynb>data table notebook</a>'\n",
              "            + ' to learn more about interactive tables.';\n",
              "          element.innerHTML = '';\n",
              "          dataTable['output_type'] = 'display_data';\n",
              "          await google.colab.output.renderOutput(dataTable, element);\n",
              "          const docLink = document.createElement('div');\n",
              "          docLink.innerHTML = docLinkHtml;\n",
              "          element.appendChild(docLink);\n",
              "        }\n",
              "      </script>\n",
              "    </div>\n",
              "  </div>\n",
              "  "
            ]
          },
          "metadata": {},
          "execution_count": 26
        }
      ]
    },
    {
      "cell_type": "code",
      "source": [
        "df_mapper.shape"
      ],
      "metadata": {
        "colab": {
          "base_uri": "https://localhost:8080/"
        },
        "id": "IRQW2rUb8uog",
        "outputId": "6104beb3-b06a-42f6-9675-4269b545b7e3"
      },
      "execution_count": 27,
      "outputs": [
        {
          "output_type": "execute_result",
          "data": {
            "text/plain": [
              "(144452, 6)"
            ]
          },
          "metadata": {},
          "execution_count": 27
        }
      ]
    },
    {
      "cell_type": "code",
      "source": [
        "# type(df_mapper[\"location\"].iloc[0])"
      ],
      "metadata": {
        "id": "rQHCDLwP260I"
      },
      "execution_count": 28,
      "outputs": []
    },
    {
      "cell_type": "markdown",
      "source": [
        "## Load population data"
      ],
      "metadata": {
        "id": "ZBXIRHAf9dSI"
      }
    },
    {
      "cell_type": "code",
      "source": [
        "df_stockholm = pd.read_json(\"/content/drive/MyDrive/Curb Food/stockholm.jl\", lines=True)\n",
        "df_solna = pd.read_json(\"/content/drive/MyDrive/Curb Food/solna_danderyds_sollentuna_taby.jl\", lines=True)\n",
        "df_uppsala = pd.read_json(\"/content/drive/MyDrive/Curb Food/uppsala.jl\", lines=True)\n",
        "df_helsingborg = pd.read_json(\"/content/drive/MyDrive/Curb Food/helsingborgs.jl\", lines=True)"
      ],
      "metadata": {
        "id": "Rqa9_TQGi8LS"
      },
      "execution_count": 29,
      "outputs": []
    },
    {
      "cell_type": "code",
      "source": [
        "print(\"Stockholm shape:\", df_stockholm.shape)\n",
        "print(\"Solna shape:\", df_solna.shape)\n",
        "print(\"Uppsala shape:\", df_uppsala.shape)\n",
        "print(\"Helsingborg shape:\", df_helsingborg.shape)"
      ],
      "metadata": {
        "colab": {
          "base_uri": "https://localhost:8080/"
        },
        "id": "3I9tfcQr890v",
        "outputId": "55937daa-d469-4c12-fabd-a63e356c0978"
      },
      "execution_count": 30,
      "outputs": [
        {
          "output_type": "stream",
          "name": "stdout",
          "text": [
            "Stockholm shape: (796269, 8)\n",
            "Solna shape: (211147, 8)\n",
            "Uppsala shape: (191982, 8)\n",
            "Helsingborg shape: (120452, 8)\n"
          ]
        }
      ]
    },
    {
      "cell_type": "code",
      "source": [
        "df = pd.concat([df_stockholm, df_solna, df_uppsala, df_helsingborg])"
      ],
      "metadata": {
        "id": "q_7OrFhLAZmp"
      },
      "execution_count": 31,
      "outputs": []
    },
    {
      "cell_type": "code",
      "source": [
        "df.shape"
      ],
      "metadata": {
        "colab": {
          "base_uri": "https://localhost:8080/"
        },
        "id": "YIiTb2CcAi7p",
        "outputId": "16d4d1fb-3ecf-4a9c-b133-d37000514fc8"
      },
      "execution_count": 32,
      "outputs": [
        {
          "output_type": "execute_result",
          "data": {
            "text/plain": [
              "(1319850, 8)"
            ]
          },
          "metadata": {},
          "execution_count": 32
        }
      ]
    },
    {
      "cell_type": "code",
      "source": [
        "df.head()"
      ],
      "metadata": {
        "colab": {
          "base_uri": "https://localhost:8080/",
          "height": 206
        },
        "id": "puS1_cSrBpgk",
        "outputId": "b7af3e36-cd2a-4329-9474-f9b7858429a9"
      },
      "execution_count": 33,
      "outputs": [
        {
          "output_type": "execute_result",
          "data": {
            "text/plain": [
              "                     name  age     sex marriage        address         city  \\\n",
              "0              James Timm   48    None     None  Tidagränd 32   Bagarmossen   \n",
              "1       Eva Rogström Timm   47  Kvinna     None  Tidagränd 32   Bagarmossen   \n",
              "2  Martin Holsten Hagnell   60    None     None  Tidagränd 30   Bagarmossen   \n",
              "3           Eva Söderberg   60  Kvinna     None  Tidagränd 30   Bagarmossen   \n",
              "4       Margareta Hagnell   19  Kvinna  Ej gift  Tidagränd 30   Bagarmossen   \n",
              "\n",
              "  postnumber                                                url  \n",
              "0    128 44   /19730325-Michael_James_Timm_Bagarmossen/DP-Cj...  \n",
              "1    128 44   /19740717-Eva_Karolina_Rogstrom_Timm_Bagarmoss...  \n",
              "2    128 44   /19610221-Martin_Andreas_Holsten_Hagnell_Bagar...  \n",
              "3    128 44   /19601108-Eva_Birgitta_Soderberg_Bagarmossen/1...  \n",
              "4    128 44   /20020628-Sofia_Margareta_Hagnell_Bagarmossen/...  "
            ],
            "text/html": [
              "\n",
              "  <div id=\"df-c9420940-c69e-4373-947d-c155e6660026\">\n",
              "    <div class=\"colab-df-container\">\n",
              "      <div>\n",
              "<style scoped>\n",
              "    .dataframe tbody tr th:only-of-type {\n",
              "        vertical-align: middle;\n",
              "    }\n",
              "\n",
              "    .dataframe tbody tr th {\n",
              "        vertical-align: top;\n",
              "    }\n",
              "\n",
              "    .dataframe thead th {\n",
              "        text-align: right;\n",
              "    }\n",
              "</style>\n",
              "<table border=\"1\" class=\"dataframe\">\n",
              "  <thead>\n",
              "    <tr style=\"text-align: right;\">\n",
              "      <th></th>\n",
              "      <th>name</th>\n",
              "      <th>age</th>\n",
              "      <th>sex</th>\n",
              "      <th>marriage</th>\n",
              "      <th>address</th>\n",
              "      <th>city</th>\n",
              "      <th>postnumber</th>\n",
              "      <th>url</th>\n",
              "    </tr>\n",
              "  </thead>\n",
              "  <tbody>\n",
              "    <tr>\n",
              "      <th>0</th>\n",
              "      <td>James Timm</td>\n",
              "      <td>48</td>\n",
              "      <td>None</td>\n",
              "      <td>None</td>\n",
              "      <td>Tidagränd 32</td>\n",
              "      <td>Bagarmossen</td>\n",
              "      <td>128 44</td>\n",
              "      <td>/19730325-Michael_James_Timm_Bagarmossen/DP-Cj...</td>\n",
              "    </tr>\n",
              "    <tr>\n",
              "      <th>1</th>\n",
              "      <td>Eva Rogström Timm</td>\n",
              "      <td>47</td>\n",
              "      <td>Kvinna</td>\n",
              "      <td>None</td>\n",
              "      <td>Tidagränd 32</td>\n",
              "      <td>Bagarmossen</td>\n",
              "      <td>128 44</td>\n",
              "      <td>/19740717-Eva_Karolina_Rogstrom_Timm_Bagarmoss...</td>\n",
              "    </tr>\n",
              "    <tr>\n",
              "      <th>2</th>\n",
              "      <td>Martin Holsten Hagnell</td>\n",
              "      <td>60</td>\n",
              "      <td>None</td>\n",
              "      <td>None</td>\n",
              "      <td>Tidagränd 30</td>\n",
              "      <td>Bagarmossen</td>\n",
              "      <td>128 44</td>\n",
              "      <td>/19610221-Martin_Andreas_Holsten_Hagnell_Bagar...</td>\n",
              "    </tr>\n",
              "    <tr>\n",
              "      <th>3</th>\n",
              "      <td>Eva Söderberg</td>\n",
              "      <td>60</td>\n",
              "      <td>Kvinna</td>\n",
              "      <td>None</td>\n",
              "      <td>Tidagränd 30</td>\n",
              "      <td>Bagarmossen</td>\n",
              "      <td>128 44</td>\n",
              "      <td>/19601108-Eva_Birgitta_Soderberg_Bagarmossen/1...</td>\n",
              "    </tr>\n",
              "    <tr>\n",
              "      <th>4</th>\n",
              "      <td>Margareta Hagnell</td>\n",
              "      <td>19</td>\n",
              "      <td>Kvinna</td>\n",
              "      <td>Ej gift</td>\n",
              "      <td>Tidagränd 30</td>\n",
              "      <td>Bagarmossen</td>\n",
              "      <td>128 44</td>\n",
              "      <td>/20020628-Sofia_Margareta_Hagnell_Bagarmossen/...</td>\n",
              "    </tr>\n",
              "  </tbody>\n",
              "</table>\n",
              "</div>\n",
              "      <button class=\"colab-df-convert\" onclick=\"convertToInteractive('df-c9420940-c69e-4373-947d-c155e6660026')\"\n",
              "              title=\"Convert this dataframe to an interactive table.\"\n",
              "              style=\"display:none;\">\n",
              "        \n",
              "  <svg xmlns=\"http://www.w3.org/2000/svg\" height=\"24px\"viewBox=\"0 0 24 24\"\n",
              "       width=\"24px\">\n",
              "    <path d=\"M0 0h24v24H0V0z\" fill=\"none\"/>\n",
              "    <path d=\"M18.56 5.44l.94 2.06.94-2.06 2.06-.94-2.06-.94-.94-2.06-.94 2.06-2.06.94zm-11 1L8.5 8.5l.94-2.06 2.06-.94-2.06-.94L8.5 2.5l-.94 2.06-2.06.94zm10 10l.94 2.06.94-2.06 2.06-.94-2.06-.94-.94-2.06-.94 2.06-2.06.94z\"/><path d=\"M17.41 7.96l-1.37-1.37c-.4-.4-.92-.59-1.43-.59-.52 0-1.04.2-1.43.59L10.3 9.45l-7.72 7.72c-.78.78-.78 2.05 0 2.83L4 21.41c.39.39.9.59 1.41.59.51 0 1.02-.2 1.41-.59l7.78-7.78 2.81-2.81c.8-.78.8-2.07 0-2.86zM5.41 20L4 18.59l7.72-7.72 1.47 1.35L5.41 20z\"/>\n",
              "  </svg>\n",
              "      </button>\n",
              "      \n",
              "  <style>\n",
              "    .colab-df-container {\n",
              "      display:flex;\n",
              "      flex-wrap:wrap;\n",
              "      gap: 12px;\n",
              "    }\n",
              "\n",
              "    .colab-df-convert {\n",
              "      background-color: #E8F0FE;\n",
              "      border: none;\n",
              "      border-radius: 50%;\n",
              "      cursor: pointer;\n",
              "      display: none;\n",
              "      fill: #1967D2;\n",
              "      height: 32px;\n",
              "      padding: 0 0 0 0;\n",
              "      width: 32px;\n",
              "    }\n",
              "\n",
              "    .colab-df-convert:hover {\n",
              "      background-color: #E2EBFA;\n",
              "      box-shadow: 0px 1px 2px rgba(60, 64, 67, 0.3), 0px 1px 3px 1px rgba(60, 64, 67, 0.15);\n",
              "      fill: #174EA6;\n",
              "    }\n",
              "\n",
              "    [theme=dark] .colab-df-convert {\n",
              "      background-color: #3B4455;\n",
              "      fill: #D2E3FC;\n",
              "    }\n",
              "\n",
              "    [theme=dark] .colab-df-convert:hover {\n",
              "      background-color: #434B5C;\n",
              "      box-shadow: 0px 1px 3px 1px rgba(0, 0, 0, 0.15);\n",
              "      filter: drop-shadow(0px 1px 2px rgba(0, 0, 0, 0.3));\n",
              "      fill: #FFFFFF;\n",
              "    }\n",
              "  </style>\n",
              "\n",
              "      <script>\n",
              "        const buttonEl =\n",
              "          document.querySelector('#df-c9420940-c69e-4373-947d-c155e6660026 button.colab-df-convert');\n",
              "        buttonEl.style.display =\n",
              "          google.colab.kernel.accessAllowed ? 'block' : 'none';\n",
              "\n",
              "        async function convertToInteractive(key) {\n",
              "          const element = document.querySelector('#df-c9420940-c69e-4373-947d-c155e6660026');\n",
              "          const dataTable =\n",
              "            await google.colab.kernel.invokeFunction('convertToInteractive',\n",
              "                                                     [key], {});\n",
              "          if (!dataTable) return;\n",
              "\n",
              "          const docLinkHtml = 'Like what you see? Visit the ' +\n",
              "            '<a target=\"_blank\" href=https://colab.research.google.com/notebooks/data_table.ipynb>data table notebook</a>'\n",
              "            + ' to learn more about interactive tables.';\n",
              "          element.innerHTML = '';\n",
              "          dataTable['output_type'] = 'display_data';\n",
              "          await google.colab.output.renderOutput(dataTable, element);\n",
              "          const docLink = document.createElement('div');\n",
              "          docLink.innerHTML = docLinkHtml;\n",
              "          element.appendChild(docLink);\n",
              "        }\n",
              "      </script>\n",
              "    </div>\n",
              "  </div>\n",
              "  "
            ]
          },
          "metadata": {},
          "execution_count": 33
        }
      ]
    },
    {
      "cell_type": "markdown",
      "source": [
        "## Clean and enrich the data"
      ],
      "metadata": {
        "id": "dGN276yYEWvn"
      }
    },
    {
      "cell_type": "code",
      "source": [
        "# df[(df[\"address\"].str.lower().str.contains(\"lgh\"))]"
      ],
      "metadata": {
        "id": "-vhvmYWsBtty"
      },
      "execution_count": 34,
      "outputs": []
    },
    {
      "cell_type": "code",
      "source": [
        "df[\"is_apartment\"] = (df[\"address\"].str.lower().str.contains(\"lgh\"))"
      ],
      "metadata": {
        "id": "iH1TXe3gA6T8"
      },
      "execution_count": 35,
      "outputs": []
    },
    {
      "cell_type": "code",
      "source": [
        "df[[\"street\", \"apartment\"]] = df[\"address\"].str.split(\"lgh\", expand=True)\n",
        "df[\"formatted_address\"] = df[\"street\"] + \" , \" + df[\"postnumber\"] + \" , \" + df[\"city\"]  + \", SE\"  "
      ],
      "metadata": {
        "id": "Ln3J4NtRBZLj"
      },
      "execution_count": 36,
      "outputs": []
    },
    {
      "cell_type": "markdown",
      "source": [
        "## Merging"
      ],
      "metadata": {
        "id": "VrJ9Hn0uEfCF"
      }
    },
    {
      "cell_type": "code",
      "source": [
        "df_merged = df.merge(df_mapper, left_on=\"formatted_address\", right_on=\"address\", how=\"left\")"
      ],
      "metadata": {
        "id": "jpRjuA4ii8G8"
      },
      "execution_count": 37,
      "outputs": []
    },
    {
      "cell_type": "code",
      "source": [
        "df_merged.shape"
      ],
      "metadata": {
        "colab": {
          "base_uri": "https://localhost:8080/"
        },
        "id": "0lNj8TJJdUc5",
        "outputId": "d04a1641-f347-4a62-cb93-d8de4a0fb44a"
      },
      "execution_count": 38,
      "outputs": [
        {
          "output_type": "execute_result",
          "data": {
            "text/plain": [
              "(1319850, 18)"
            ]
          },
          "metadata": {},
          "execution_count": 38
        }
      ]
    },
    {
      "cell_type": "code",
      "source": [
        "# 778936/1199398"
      ],
      "metadata": {
        "id": "e0fC5js3d9p0"
      },
      "execution_count": 39,
      "outputs": []
    },
    {
      "cell_type": "code",
      "source": [
        "# 888393/1319850"
      ],
      "metadata": {
        "id": "mOGLRny9deTp"
      },
      "execution_count": 40,
      "outputs": []
    },
    {
      "cell_type": "code",
      "source": [
        "print(\"% of missing data i.e. missing geocodes :\", df_merged[\"point\"].isna().sum()/df_merged.shape[0]*100)"
      ],
      "metadata": {
        "colab": {
          "base_uri": "https://localhost:8080/"
        },
        "id": "r5fUYom_dOSG",
        "outputId": "14980fdc-4e34-49e9-ffc4-3cfe7a880a41"
      },
      "execution_count": 41,
      "outputs": [
        {
          "output_type": "stream",
          "name": "stdout",
          "text": [
            "% of missing data i.e. missing geocodes : 32.68985111944539\n"
          ]
        }
      ]
    },
    {
      "cell_type": "code",
      "source": [
        "df_merged = df_merged.dropna(subset=[\"point\"])"
      ],
      "metadata": {
        "id": "Jaf8kiNwlcUv"
      },
      "execution_count": 42,
      "outputs": []
    },
    {
      "cell_type": "code",
      "source": [
        "df_merged.shape"
      ],
      "metadata": {
        "id": "sncS7LdTqhjF",
        "colab": {
          "base_uri": "https://localhost:8080/"
        },
        "outputId": "3eb8b7b5-0ed6-4838-f46e-976e7299a467"
      },
      "execution_count": 43,
      "outputs": [
        {
          "output_type": "execute_result",
          "data": {
            "text/plain": [
              "(888393, 18)"
            ]
          },
          "metadata": {},
          "execution_count": 43
        }
      ]
    },
    {
      "cell_type": "code",
      "source": [
        "df_merged = geopandas.GeoDataFrame(df_merged, \n",
        "                             geometry=geopandas.points_from_xy(df_merged.longitude, df_merged.latitude))"
      ],
      "metadata": {
        "id": "P6QMyhWJllr3"
      },
      "execution_count": 44,
      "outputs": []
    },
    {
      "cell_type": "code",
      "source": [
        "df_merged.shape"
      ],
      "metadata": {
        "colab": {
          "base_uri": "https://localhost:8080/"
        },
        "id": "2K6oE3XQnpqe",
        "outputId": "58de7407-f85b-4694-dd0f-ca36b6e338dd"
      },
      "execution_count": 45,
      "outputs": [
        {
          "output_type": "execute_result",
          "data": {
            "text/plain": [
              "(888393, 19)"
            ]
          },
          "metadata": {},
          "execution_count": 45
        }
      ]
    },
    {
      "cell_type": "code",
      "source": [
        "print(kungsholmen_poly)"
      ],
      "metadata": {
        "colab": {
          "base_uri": "https://localhost:8080/"
        },
        "id": "2uiuhKxrllnS",
        "outputId": "9673f1fa-b03f-4cc5-b880-9dec17fdd5a1"
      },
      "execution_count": 46,
      "outputs": [
        {
          "output_type": "stream",
          "name": "stdout",
          "text": [
            "POLYGON ((17.93271715029998 59.32138842585422, 17.930288194717345 59.3254554359804, 17.928571833274795 59.33422674222236, 17.930243539219077 59.3430003136345, 17.935241613783102 59.35143885971286, 17.94337614555177 59.35921772599728, 17.95433597815554 59.36603742583491, 17.967700445428914 59.37163523305625, 17.982955457522188 59.37579537735369, 17.999513332482447 59.37835743543827, 18.010372357257857 59.378902928616455, 18.015715625628133 59.37686194208291, 18.021338909191314 59.375390997723855, 18.027827291650226 59.37261074562011, 18.03659450522133 59.36995822517861, 18.039582324888983 59.372356126380765, 18.055124784027445 59.3745384607546, 18.06577075457109 59.37163523305625, 18.079135221844464 59.36603742583491, 18.090095054448234 59.35921772599728, 18.098229586216902 59.35143885971286, 18.103227660780927 59.3430003136345, 18.104899366725206 59.33422674222236, 18.10418367636976 59.33056927292341, 18.1007632207791 59.33061102321466, 18.094102601276887 59.3311855541495, 18.08432473488574 59.32999855168623, 18.07887997784195 59.32736358456748, 18.072266832382297 59.328994833764455, 18.060400572387948 59.32703182226504, 18.057066939977943 59.326839716912616, 18.059432050129658 59.31768190319414, 18.062792700062744 59.304324075937956, 18.065231912042567 59.29674192898211, 18.050433229598877 59.292708906775296, 18.033913211849317 59.29015329938001, 18.0167356 59.28929041970405, 17.999557988150688 59.29015329938001, 17.983037970401124 59.292708906775296, 17.967808253628636 59.29685939694093, 17.95445266881808 59.302445816348005, 17.94804268134521 59.306424513389004, 17.955669321375183 59.31305102172101, 17.93271715029998 59.32138842585422))\n"
          ]
        }
      ]
    },
    {
      "cell_type": "code",
      "source": [
        "df_merged[\"within_kungsholmen\"] = df_merged[\"geometry\"].within(kungsholmen_poly)\n",
        "df_merged[\"within_uppsala\"] = df_merged[\"geometry\"].within(uppsala_poly)\n",
        "df_merged[\"within_arsta\"] = df_merged[\"geometry\"].within(arsta_poly)"
      ],
      "metadata": {
        "id": "Dxa3jarBllkw"
      },
      "execution_count": 47,
      "outputs": []
    },
    {
      "cell_type": "code",
      "source": [
        "print(\"Kungsholmen Population :\", df_merged[\"within_kungsholmen\"].sum())\n",
        "print(\"Uppsala Population :\", df_merged[\"within_uppsala\"].sum())\n",
        "print(\"Arsta Population :\", df_merged[\"within_arsta\"].sum())\n",
        "print(\"Total Population :\", df_merged[\"within_kungsholmen\"].sum()+df_merged[\"within_uppsala\"].sum()+df_merged[\"within_arsta\"].sum())"
      ],
      "metadata": {
        "colab": {
          "base_uri": "https://localhost:8080/"
        },
        "id": "wcYsyX5So9ds",
        "outputId": "2cb1347a-eddb-4668-fcfb-1b6b5fc9db10"
      },
      "execution_count": 48,
      "outputs": [
        {
          "output_type": "stream",
          "name": "stdout",
          "text": [
            "Kungsholmen Population : 277151\n",
            "Uppsala Population : 76421\n",
            "Arsta Population : 230293\n",
            "Total Population : 583865\n"
          ]
        }
      ]
    },
    {
      "cell_type": "code",
      "source": [
        "583865/888393"
      ],
      "metadata": {
        "colab": {
          "base_uri": "https://localhost:8080/"
        },
        "id": "Cj0rOwwNpCGZ",
        "outputId": "a9c31fb3-f715-4d95-92fb-d3a4db36662d"
      },
      "execution_count": 49,
      "outputs": [
        {
          "output_type": "execute_result",
          "data": {
            "text/plain": [
              "0.6572147686890825"
            ]
          },
          "metadata": {},
          "execution_count": 49
        }
      ]
    },
    {
      "cell_type": "code",
      "source": [
        "query = \"\"\"\n",
        "SELECT  \n",
        "location, \n",
        "ROUND(COUNT(DISTINCT order_id)/COUNT(DISTINCT DATE(order_timestamp)),2) as average_daily_orders \n",
        "FROM `curbfood-data-platform.dashboards.deliverect_orders_all` \n",
        "WHERE DATE(order_timestamp) >= '2022-03-01' \n",
        "AND location IN (\"Kungsholmen\", \"Uppsala\", \"Årsta\")\n",
        "AND channel = 'WOLT'\n",
        "GROUP BY 1 \n",
        "\"\"\""
      ],
      "metadata": {
        "id": "dVcaNSdJtZd7"
      },
      "execution_count": 50,
      "outputs": []
    },
    {
      "cell_type": "code",
      "source": [
        "project_id = 'curbfood-data-platform'\n",
        "\n",
        "orders_data = pd.io.gbq.read_gbq(query, project_id=project_id)"
      ],
      "metadata": {
        "id": "RueLx2FAl417",
        "colab": {
          "base_uri": "https://localhost:8080/"
        },
        "outputId": "7818ac95-43ee-4c00-e4ea-1eebd2ef7492"
      },
      "execution_count": 51,
      "outputs": [
        {
          "name": "stdout",
          "output_type": "stream",
          "text": [
            "Please visit this URL to authorize this application: https://accounts.google.com/o/oauth2/auth?response_type=code&client_id=725825577420-unm2gnkiprugilg743tkbig250f4sfsj.apps.googleusercontent.com&redirect_uri=urn%3Aietf%3Awg%3Aoauth%3A2.0%3Aoob&scope=https%3A%2F%2Fwww.googleapis.com%2Fauth%2Fbigquery&state=YAnkQIYgbV65AKfUzWYzhJ73YxTEA9&prompt=consent&access_type=offline\n",
            "Enter the authorization code: 4/1AX4XfWjtyKWVx5dh0yweqb5tXMRhwGazyjUPrSJoazJ8TIjqTrGE-DwvlcY\n"
          ]
        }
      ]
    },
    {
      "cell_type": "code",
      "source": [
        "orders_data.set_index(\"location\", inplace=True)"
      ],
      "metadata": {
        "id": "xME_bwB5mAZN"
      },
      "execution_count": 52,
      "outputs": []
    },
    {
      "cell_type": "code",
      "source": [
        "orders_data[[\"population\", \"area\"]] = 0"
      ],
      "metadata": {
        "id": "8AKjeRT7mGfP"
      },
      "execution_count": 53,
      "outputs": []
    },
    {
      "cell_type": "code",
      "source": [
        "orders_data"
      ],
      "metadata": {
        "colab": {
          "base_uri": "https://localhost:8080/",
          "height": 175
        },
        "id": "VSu-eylwDgmM",
        "outputId": "ac2d08be-5fa2-48df-8f72-e0aba58d0dff"
      },
      "execution_count": 54,
      "outputs": [
        {
          "output_type": "execute_result",
          "data": {
            "text/plain": [
              "             average_daily_orders  population  area\n",
              "location                                           \n",
              "Årsta                       31.61           0     0\n",
              "Kungsholmen                 50.50           0     0\n",
              "Uppsala                     14.27           0     0"
            ],
            "text/html": [
              "\n",
              "  <div id=\"df-b200421c-d6b8-4a4f-99d2-f18b5989572b\">\n",
              "    <div class=\"colab-df-container\">\n",
              "      <div>\n",
              "<style scoped>\n",
              "    .dataframe tbody tr th:only-of-type {\n",
              "        vertical-align: middle;\n",
              "    }\n",
              "\n",
              "    .dataframe tbody tr th {\n",
              "        vertical-align: top;\n",
              "    }\n",
              "\n",
              "    .dataframe thead th {\n",
              "        text-align: right;\n",
              "    }\n",
              "</style>\n",
              "<table border=\"1\" class=\"dataframe\">\n",
              "  <thead>\n",
              "    <tr style=\"text-align: right;\">\n",
              "      <th></th>\n",
              "      <th>average_daily_orders</th>\n",
              "      <th>population</th>\n",
              "      <th>area</th>\n",
              "    </tr>\n",
              "    <tr>\n",
              "      <th>location</th>\n",
              "      <th></th>\n",
              "      <th></th>\n",
              "      <th></th>\n",
              "    </tr>\n",
              "  </thead>\n",
              "  <tbody>\n",
              "    <tr>\n",
              "      <th>Årsta</th>\n",
              "      <td>31.61</td>\n",
              "      <td>0</td>\n",
              "      <td>0</td>\n",
              "    </tr>\n",
              "    <tr>\n",
              "      <th>Kungsholmen</th>\n",
              "      <td>50.50</td>\n",
              "      <td>0</td>\n",
              "      <td>0</td>\n",
              "    </tr>\n",
              "    <tr>\n",
              "      <th>Uppsala</th>\n",
              "      <td>14.27</td>\n",
              "      <td>0</td>\n",
              "      <td>0</td>\n",
              "    </tr>\n",
              "  </tbody>\n",
              "</table>\n",
              "</div>\n",
              "      <button class=\"colab-df-convert\" onclick=\"convertToInteractive('df-b200421c-d6b8-4a4f-99d2-f18b5989572b')\"\n",
              "              title=\"Convert this dataframe to an interactive table.\"\n",
              "              style=\"display:none;\">\n",
              "        \n",
              "  <svg xmlns=\"http://www.w3.org/2000/svg\" height=\"24px\"viewBox=\"0 0 24 24\"\n",
              "       width=\"24px\">\n",
              "    <path d=\"M0 0h24v24H0V0z\" fill=\"none\"/>\n",
              "    <path d=\"M18.56 5.44l.94 2.06.94-2.06 2.06-.94-2.06-.94-.94-2.06-.94 2.06-2.06.94zm-11 1L8.5 8.5l.94-2.06 2.06-.94-2.06-.94L8.5 2.5l-.94 2.06-2.06.94zm10 10l.94 2.06.94-2.06 2.06-.94-2.06-.94-.94-2.06-.94 2.06-2.06.94z\"/><path d=\"M17.41 7.96l-1.37-1.37c-.4-.4-.92-.59-1.43-.59-.52 0-1.04.2-1.43.59L10.3 9.45l-7.72 7.72c-.78.78-.78 2.05 0 2.83L4 21.41c.39.39.9.59 1.41.59.51 0 1.02-.2 1.41-.59l7.78-7.78 2.81-2.81c.8-.78.8-2.07 0-2.86zM5.41 20L4 18.59l7.72-7.72 1.47 1.35L5.41 20z\"/>\n",
              "  </svg>\n",
              "      </button>\n",
              "      \n",
              "  <style>\n",
              "    .colab-df-container {\n",
              "      display:flex;\n",
              "      flex-wrap:wrap;\n",
              "      gap: 12px;\n",
              "    }\n",
              "\n",
              "    .colab-df-convert {\n",
              "      background-color: #E8F0FE;\n",
              "      border: none;\n",
              "      border-radius: 50%;\n",
              "      cursor: pointer;\n",
              "      display: none;\n",
              "      fill: #1967D2;\n",
              "      height: 32px;\n",
              "      padding: 0 0 0 0;\n",
              "      width: 32px;\n",
              "    }\n",
              "\n",
              "    .colab-df-convert:hover {\n",
              "      background-color: #E2EBFA;\n",
              "      box-shadow: 0px 1px 2px rgba(60, 64, 67, 0.3), 0px 1px 3px 1px rgba(60, 64, 67, 0.15);\n",
              "      fill: #174EA6;\n",
              "    }\n",
              "\n",
              "    [theme=dark] .colab-df-convert {\n",
              "      background-color: #3B4455;\n",
              "      fill: #D2E3FC;\n",
              "    }\n",
              "\n",
              "    [theme=dark] .colab-df-convert:hover {\n",
              "      background-color: #434B5C;\n",
              "      box-shadow: 0px 1px 3px 1px rgba(0, 0, 0, 0.15);\n",
              "      filter: drop-shadow(0px 1px 2px rgba(0, 0, 0, 0.3));\n",
              "      fill: #FFFFFF;\n",
              "    }\n",
              "  </style>\n",
              "\n",
              "      <script>\n",
              "        const buttonEl =\n",
              "          document.querySelector('#df-b200421c-d6b8-4a4f-99d2-f18b5989572b button.colab-df-convert');\n",
              "        buttonEl.style.display =\n",
              "          google.colab.kernel.accessAllowed ? 'block' : 'none';\n",
              "\n",
              "        async function convertToInteractive(key) {\n",
              "          const element = document.querySelector('#df-b200421c-d6b8-4a4f-99d2-f18b5989572b');\n",
              "          const dataTable =\n",
              "            await google.colab.kernel.invokeFunction('convertToInteractive',\n",
              "                                                     [key], {});\n",
              "          if (!dataTable) return;\n",
              "\n",
              "          const docLinkHtml = 'Like what you see? Visit the ' +\n",
              "            '<a target=\"_blank\" href=https://colab.research.google.com/notebooks/data_table.ipynb>data table notebook</a>'\n",
              "            + ' to learn more about interactive tables.';\n",
              "          element.innerHTML = '';\n",
              "          dataTable['output_type'] = 'display_data';\n",
              "          await google.colab.output.renderOutput(dataTable, element);\n",
              "          const docLink = document.createElement('div');\n",
              "          docLink.innerHTML = docLinkHtml;\n",
              "          element.appendChild(docLink);\n",
              "        }\n",
              "      </script>\n",
              "    </div>\n",
              "  </div>\n",
              "  "
            ]
          },
          "metadata": {},
          "execution_count": 54
        }
      ]
    },
    {
      "cell_type": "code",
      "source": [
        "orders_data.loc[\"Kungsholmen\", \"population\"] = df_merged[\"within_kungsholmen\"].sum()\n",
        "orders_data.loc[\"Uppsala\", \"population\"] = df_merged[\"within_uppsala\"].sum()\n",
        "orders_data.loc[\"Årsta\", \"population\"] = df_merged[\"within_arsta\"].sum()"
      ],
      "metadata": {
        "id": "kI1x-3M3mIUj"
      },
      "execution_count": 55,
      "outputs": []
    },
    {
      "cell_type": "code",
      "source": [
        "orders_data.loc[\"Kungsholmen\", \"area\"] = kungsholmen_poly.area\n",
        "orders_data.loc[\"Uppsala\", \"area\"] = uppsala_poly.area\n",
        "orders_data.loc[\"Årsta\", \"area\"] = arsta_poly.area"
      ],
      "metadata": {
        "id": "0leTdRxHU9ks"
      },
      "execution_count": 56,
      "outputs": []
    },
    {
      "cell_type": "code",
      "source": [
        "orders_data.reset_index(inplace=True)"
      ],
      "metadata": {
        "id": "hEgkpwuRmRA2"
      },
      "execution_count": 57,
      "outputs": []
    },
    {
      "cell_type": "code",
      "source": [
        "orders_data"
      ],
      "metadata": {
        "colab": {
          "base_uri": "https://localhost:8080/",
          "height": 143
        },
        "id": "qZorCmxlmT8H",
        "outputId": "fc4fa4c7-a7a4-4d37-ab1b-6ad1b34d5472"
      },
      "execution_count": 58,
      "outputs": [
        {
          "output_type": "execute_result",
          "data": {
            "text/plain": [
              "      location  average_daily_orders  population      area\n",
              "0        Årsta                 31.61      230293  0.014816\n",
              "1  Kungsholmen                 50.50      277151  0.011084\n",
              "2      Uppsala                 14.27       76421  0.008720"
            ],
            "text/html": [
              "\n",
              "  <div id=\"df-16285ef4-b3ac-44af-ba51-0d34d32b7cd7\">\n",
              "    <div class=\"colab-df-container\">\n",
              "      <div>\n",
              "<style scoped>\n",
              "    .dataframe tbody tr th:only-of-type {\n",
              "        vertical-align: middle;\n",
              "    }\n",
              "\n",
              "    .dataframe tbody tr th {\n",
              "        vertical-align: top;\n",
              "    }\n",
              "\n",
              "    .dataframe thead th {\n",
              "        text-align: right;\n",
              "    }\n",
              "</style>\n",
              "<table border=\"1\" class=\"dataframe\">\n",
              "  <thead>\n",
              "    <tr style=\"text-align: right;\">\n",
              "      <th></th>\n",
              "      <th>location</th>\n",
              "      <th>average_daily_orders</th>\n",
              "      <th>population</th>\n",
              "      <th>area</th>\n",
              "    </tr>\n",
              "  </thead>\n",
              "  <tbody>\n",
              "    <tr>\n",
              "      <th>0</th>\n",
              "      <td>Årsta</td>\n",
              "      <td>31.61</td>\n",
              "      <td>230293</td>\n",
              "      <td>0.014816</td>\n",
              "    </tr>\n",
              "    <tr>\n",
              "      <th>1</th>\n",
              "      <td>Kungsholmen</td>\n",
              "      <td>50.50</td>\n",
              "      <td>277151</td>\n",
              "      <td>0.011084</td>\n",
              "    </tr>\n",
              "    <tr>\n",
              "      <th>2</th>\n",
              "      <td>Uppsala</td>\n",
              "      <td>14.27</td>\n",
              "      <td>76421</td>\n",
              "      <td>0.008720</td>\n",
              "    </tr>\n",
              "  </tbody>\n",
              "</table>\n",
              "</div>\n",
              "      <button class=\"colab-df-convert\" onclick=\"convertToInteractive('df-16285ef4-b3ac-44af-ba51-0d34d32b7cd7')\"\n",
              "              title=\"Convert this dataframe to an interactive table.\"\n",
              "              style=\"display:none;\">\n",
              "        \n",
              "  <svg xmlns=\"http://www.w3.org/2000/svg\" height=\"24px\"viewBox=\"0 0 24 24\"\n",
              "       width=\"24px\">\n",
              "    <path d=\"M0 0h24v24H0V0z\" fill=\"none\"/>\n",
              "    <path d=\"M18.56 5.44l.94 2.06.94-2.06 2.06-.94-2.06-.94-.94-2.06-.94 2.06-2.06.94zm-11 1L8.5 8.5l.94-2.06 2.06-.94-2.06-.94L8.5 2.5l-.94 2.06-2.06.94zm10 10l.94 2.06.94-2.06 2.06-.94-2.06-.94-.94-2.06-.94 2.06-2.06.94z\"/><path d=\"M17.41 7.96l-1.37-1.37c-.4-.4-.92-.59-1.43-.59-.52 0-1.04.2-1.43.59L10.3 9.45l-7.72 7.72c-.78.78-.78 2.05 0 2.83L4 21.41c.39.39.9.59 1.41.59.51 0 1.02-.2 1.41-.59l7.78-7.78 2.81-2.81c.8-.78.8-2.07 0-2.86zM5.41 20L4 18.59l7.72-7.72 1.47 1.35L5.41 20z\"/>\n",
              "  </svg>\n",
              "      </button>\n",
              "      \n",
              "  <style>\n",
              "    .colab-df-container {\n",
              "      display:flex;\n",
              "      flex-wrap:wrap;\n",
              "      gap: 12px;\n",
              "    }\n",
              "\n",
              "    .colab-df-convert {\n",
              "      background-color: #E8F0FE;\n",
              "      border: none;\n",
              "      border-radius: 50%;\n",
              "      cursor: pointer;\n",
              "      display: none;\n",
              "      fill: #1967D2;\n",
              "      height: 32px;\n",
              "      padding: 0 0 0 0;\n",
              "      width: 32px;\n",
              "    }\n",
              "\n",
              "    .colab-df-convert:hover {\n",
              "      background-color: #E2EBFA;\n",
              "      box-shadow: 0px 1px 2px rgba(60, 64, 67, 0.3), 0px 1px 3px 1px rgba(60, 64, 67, 0.15);\n",
              "      fill: #174EA6;\n",
              "    }\n",
              "\n",
              "    [theme=dark] .colab-df-convert {\n",
              "      background-color: #3B4455;\n",
              "      fill: #D2E3FC;\n",
              "    }\n",
              "\n",
              "    [theme=dark] .colab-df-convert:hover {\n",
              "      background-color: #434B5C;\n",
              "      box-shadow: 0px 1px 3px 1px rgba(0, 0, 0, 0.15);\n",
              "      filter: drop-shadow(0px 1px 2px rgba(0, 0, 0, 0.3));\n",
              "      fill: #FFFFFF;\n",
              "    }\n",
              "  </style>\n",
              "\n",
              "      <script>\n",
              "        const buttonEl =\n",
              "          document.querySelector('#df-16285ef4-b3ac-44af-ba51-0d34d32b7cd7 button.colab-df-convert');\n",
              "        buttonEl.style.display =\n",
              "          google.colab.kernel.accessAllowed ? 'block' : 'none';\n",
              "\n",
              "        async function convertToInteractive(key) {\n",
              "          const element = document.querySelector('#df-16285ef4-b3ac-44af-ba51-0d34d32b7cd7');\n",
              "          const dataTable =\n",
              "            await google.colab.kernel.invokeFunction('convertToInteractive',\n",
              "                                                     [key], {});\n",
              "          if (!dataTable) return;\n",
              "\n",
              "          const docLinkHtml = 'Like what you see? Visit the ' +\n",
              "            '<a target=\"_blank\" href=https://colab.research.google.com/notebooks/data_table.ipynb>data table notebook</a>'\n",
              "            + ' to learn more about interactive tables.';\n",
              "          element.innerHTML = '';\n",
              "          dataTable['output_type'] = 'display_data';\n",
              "          await google.colab.output.renderOutput(dataTable, element);\n",
              "          const docLink = document.createElement('div');\n",
              "          docLink.innerHTML = docLinkHtml;\n",
              "          element.appendChild(docLink);\n",
              "        }\n",
              "      </script>\n",
              "    </div>\n",
              "  </div>\n",
              "  "
            ]
          },
          "metadata": {},
          "execution_count": 58
        }
      ]
    },
    {
      "cell_type": "code",
      "source": [
        "query2 = \"\"\"\n",
        "SELECT  \\\n",
        "DATE(order_timestamp) as date, location, \\\n",
        "COUNT(DISTINCT order_id) as daily_orders \\\n",
        "FROM `curbfood-data-platform.dashboards.deliverect_orders_all` \\\n",
        "WHERE DATE(order_timestamp) >= '2022-03-01' \\\n",
        "AND location IN ('Kungsholmen', 'Uppsala', 'Årsta') \\\n",
        "AND channel = 'WOLT' \\\n",
        "GROUP BY 1, 2 \\\n",
        "\"\"\""
      ],
      "metadata": {
        "id": "tLT3qMGHzy1W"
      },
      "execution_count": 59,
      "outputs": []
    },
    {
      "cell_type": "code",
      "source": [
        "project_id = 'curbfood-data-platform'\n",
        "\n",
        "location_daily_data = pd.io.gbq.read_gbq(query2, project_id=project_id)"
      ],
      "metadata": {
        "id": "r-Y7omDyz3y8"
      },
      "execution_count": 60,
      "outputs": []
    },
    {
      "cell_type": "code",
      "source": [
        "location_daily_data"
      ],
      "metadata": {
        "colab": {
          "base_uri": "https://localhost:8080/",
          "height": 423
        },
        "id": "V7h9lMTOz6C6",
        "outputId": "f101295a-9135-46f2-c08d-1f4d5311dc37"
      },
      "execution_count": 61,
      "outputs": [
        {
          "output_type": "execute_result",
          "data": {
            "text/plain": [
              "          date     location  daily_orders\n",
              "0   2022-03-28        Årsta            40\n",
              "1   2022-03-28  Kungsholmen            74\n",
              "2   2022-04-12  Kungsholmen            51\n",
              "3   2022-03-08      Uppsala             8\n",
              "4   2022-03-03  Kungsholmen            39\n",
              "..         ...          ...           ...\n",
              "163 2022-03-07      Uppsala            11\n",
              "164 2022-04-20        Årsta             5\n",
              "165 2022-04-19        Årsta             4\n",
              "166 2022-03-16      Uppsala             6\n",
              "167 2022-04-18        Årsta             5\n",
              "\n",
              "[168 rows x 3 columns]"
            ],
            "text/html": [
              "\n",
              "  <div id=\"df-de9cf54d-cb3a-4124-a0c4-2eb064854f62\">\n",
              "    <div class=\"colab-df-container\">\n",
              "      <div>\n",
              "<style scoped>\n",
              "    .dataframe tbody tr th:only-of-type {\n",
              "        vertical-align: middle;\n",
              "    }\n",
              "\n",
              "    .dataframe tbody tr th {\n",
              "        vertical-align: top;\n",
              "    }\n",
              "\n",
              "    .dataframe thead th {\n",
              "        text-align: right;\n",
              "    }\n",
              "</style>\n",
              "<table border=\"1\" class=\"dataframe\">\n",
              "  <thead>\n",
              "    <tr style=\"text-align: right;\">\n",
              "      <th></th>\n",
              "      <th>date</th>\n",
              "      <th>location</th>\n",
              "      <th>daily_orders</th>\n",
              "    </tr>\n",
              "  </thead>\n",
              "  <tbody>\n",
              "    <tr>\n",
              "      <th>0</th>\n",
              "      <td>2022-03-28</td>\n",
              "      <td>Årsta</td>\n",
              "      <td>40</td>\n",
              "    </tr>\n",
              "    <tr>\n",
              "      <th>1</th>\n",
              "      <td>2022-03-28</td>\n",
              "      <td>Kungsholmen</td>\n",
              "      <td>74</td>\n",
              "    </tr>\n",
              "    <tr>\n",
              "      <th>2</th>\n",
              "      <td>2022-04-12</td>\n",
              "      <td>Kungsholmen</td>\n",
              "      <td>51</td>\n",
              "    </tr>\n",
              "    <tr>\n",
              "      <th>3</th>\n",
              "      <td>2022-03-08</td>\n",
              "      <td>Uppsala</td>\n",
              "      <td>8</td>\n",
              "    </tr>\n",
              "    <tr>\n",
              "      <th>4</th>\n",
              "      <td>2022-03-03</td>\n",
              "      <td>Kungsholmen</td>\n",
              "      <td>39</td>\n",
              "    </tr>\n",
              "    <tr>\n",
              "      <th>...</th>\n",
              "      <td>...</td>\n",
              "      <td>...</td>\n",
              "      <td>...</td>\n",
              "    </tr>\n",
              "    <tr>\n",
              "      <th>163</th>\n",
              "      <td>2022-03-07</td>\n",
              "      <td>Uppsala</td>\n",
              "      <td>11</td>\n",
              "    </tr>\n",
              "    <tr>\n",
              "      <th>164</th>\n",
              "      <td>2022-04-20</td>\n",
              "      <td>Årsta</td>\n",
              "      <td>5</td>\n",
              "    </tr>\n",
              "    <tr>\n",
              "      <th>165</th>\n",
              "      <td>2022-04-19</td>\n",
              "      <td>Årsta</td>\n",
              "      <td>4</td>\n",
              "    </tr>\n",
              "    <tr>\n",
              "      <th>166</th>\n",
              "      <td>2022-03-16</td>\n",
              "      <td>Uppsala</td>\n",
              "      <td>6</td>\n",
              "    </tr>\n",
              "    <tr>\n",
              "      <th>167</th>\n",
              "      <td>2022-04-18</td>\n",
              "      <td>Årsta</td>\n",
              "      <td>5</td>\n",
              "    </tr>\n",
              "  </tbody>\n",
              "</table>\n",
              "<p>168 rows × 3 columns</p>\n",
              "</div>\n",
              "      <button class=\"colab-df-convert\" onclick=\"convertToInteractive('df-de9cf54d-cb3a-4124-a0c4-2eb064854f62')\"\n",
              "              title=\"Convert this dataframe to an interactive table.\"\n",
              "              style=\"display:none;\">\n",
              "        \n",
              "  <svg xmlns=\"http://www.w3.org/2000/svg\" height=\"24px\"viewBox=\"0 0 24 24\"\n",
              "       width=\"24px\">\n",
              "    <path d=\"M0 0h24v24H0V0z\" fill=\"none\"/>\n",
              "    <path d=\"M18.56 5.44l.94 2.06.94-2.06 2.06-.94-2.06-.94-.94-2.06-.94 2.06-2.06.94zm-11 1L8.5 8.5l.94-2.06 2.06-.94-2.06-.94L8.5 2.5l-.94 2.06-2.06.94zm10 10l.94 2.06.94-2.06 2.06-.94-2.06-.94-.94-2.06-.94 2.06-2.06.94z\"/><path d=\"M17.41 7.96l-1.37-1.37c-.4-.4-.92-.59-1.43-.59-.52 0-1.04.2-1.43.59L10.3 9.45l-7.72 7.72c-.78.78-.78 2.05 0 2.83L4 21.41c.39.39.9.59 1.41.59.51 0 1.02-.2 1.41-.59l7.78-7.78 2.81-2.81c.8-.78.8-2.07 0-2.86zM5.41 20L4 18.59l7.72-7.72 1.47 1.35L5.41 20z\"/>\n",
              "  </svg>\n",
              "      </button>\n",
              "      \n",
              "  <style>\n",
              "    .colab-df-container {\n",
              "      display:flex;\n",
              "      flex-wrap:wrap;\n",
              "      gap: 12px;\n",
              "    }\n",
              "\n",
              "    .colab-df-convert {\n",
              "      background-color: #E8F0FE;\n",
              "      border: none;\n",
              "      border-radius: 50%;\n",
              "      cursor: pointer;\n",
              "      display: none;\n",
              "      fill: #1967D2;\n",
              "      height: 32px;\n",
              "      padding: 0 0 0 0;\n",
              "      width: 32px;\n",
              "    }\n",
              "\n",
              "    .colab-df-convert:hover {\n",
              "      background-color: #E2EBFA;\n",
              "      box-shadow: 0px 1px 2px rgba(60, 64, 67, 0.3), 0px 1px 3px 1px rgba(60, 64, 67, 0.15);\n",
              "      fill: #174EA6;\n",
              "    }\n",
              "\n",
              "    [theme=dark] .colab-df-convert {\n",
              "      background-color: #3B4455;\n",
              "      fill: #D2E3FC;\n",
              "    }\n",
              "\n",
              "    [theme=dark] .colab-df-convert:hover {\n",
              "      background-color: #434B5C;\n",
              "      box-shadow: 0px 1px 3px 1px rgba(0, 0, 0, 0.15);\n",
              "      filter: drop-shadow(0px 1px 2px rgba(0, 0, 0, 0.3));\n",
              "      fill: #FFFFFF;\n",
              "    }\n",
              "  </style>\n",
              "\n",
              "      <script>\n",
              "        const buttonEl =\n",
              "          document.querySelector('#df-de9cf54d-cb3a-4124-a0c4-2eb064854f62 button.colab-df-convert');\n",
              "        buttonEl.style.display =\n",
              "          google.colab.kernel.accessAllowed ? 'block' : 'none';\n",
              "\n",
              "        async function convertToInteractive(key) {\n",
              "          const element = document.querySelector('#df-de9cf54d-cb3a-4124-a0c4-2eb064854f62');\n",
              "          const dataTable =\n",
              "            await google.colab.kernel.invokeFunction('convertToInteractive',\n",
              "                                                     [key], {});\n",
              "          if (!dataTable) return;\n",
              "\n",
              "          const docLinkHtml = 'Like what you see? Visit the ' +\n",
              "            '<a target=\"_blank\" href=https://colab.research.google.com/notebooks/data_table.ipynb>data table notebook</a>'\n",
              "            + ' to learn more about interactive tables.';\n",
              "          element.innerHTML = '';\n",
              "          dataTable['output_type'] = 'display_data';\n",
              "          await google.colab.output.renderOutput(dataTable, element);\n",
              "          const docLink = document.createElement('div');\n",
              "          docLink.innerHTML = docLinkHtml;\n",
              "          element.appendChild(docLink);\n",
              "        }\n",
              "      </script>\n",
              "    </div>\n",
              "  </div>\n",
              "  "
            ]
          },
          "metadata": {},
          "execution_count": 61
        }
      ]
    },
    {
      "cell_type": "code",
      "source": [
        "%%capture\n",
        "!pip install plotly==5.7.0"
      ],
      "metadata": {
        "id": "hx0-qUz6mWbE"
      },
      "execution_count": 62,
      "outputs": []
    },
    {
      "cell_type": "code",
      "source": [
        "import plotly.express as px\n",
        "\n",
        "fig = px.scatter(orders_data, x=\"average_daily_orders\", y=\"population\",\n",
        "\t         size=\"area\", hover_name=\"location\", size_max=60, trendline=\"ols\")\n",
        "fig.show()"
      ],
      "metadata": {
        "colab": {
          "base_uri": "https://localhost:8080/",
          "height": 577
        },
        "id": "ScjfvmenmaYN",
        "outputId": "50618a61-0b90-43ff-d4df-dbc5ade8a627"
      },
      "execution_count": 63,
      "outputs": [
        {
          "output_type": "stream",
          "name": "stderr",
          "text": [
            "/usr/local/lib/python3.7/dist-packages/statsmodels/tools/_testing.py:19: FutureWarning: pandas.util.testing is deprecated. Use the functions in the public API at pandas.testing instead.\n",
            "  import pandas.util.testing as tm\n"
          ]
        },
        {
          "output_type": "display_data",
          "data": {
            "text/html": [
              "<html>\n",
              "<head><meta charset=\"utf-8\" /></head>\n",
              "<body>\n",
              "    <div>            <script src=\"https://cdnjs.cloudflare.com/ajax/libs/mathjax/2.7.5/MathJax.js?config=TeX-AMS-MML_SVG\"></script><script type=\"text/javascript\">if (window.MathJax) {MathJax.Hub.Config({SVG: {font: \"STIX-Web\"}});}</script>                <script type=\"text/javascript\">window.PlotlyConfig = {MathJaxConfig: 'local'};</script>\n",
              "        <script src=\"https://cdn.plot.ly/plotly-2.11.1.min.js\"></script>                <div id=\"5778de06-21d4-4be3-a97f-e172c1fe5332\" class=\"plotly-graph-div\" style=\"height:525px; width:100%;\"></div>            <script type=\"text/javascript\">                                    window.PLOTLYENV=window.PLOTLYENV || {};                                    if (document.getElementById(\"5778de06-21d4-4be3-a97f-e172c1fe5332\")) {                    Plotly.newPlot(                        \"5778de06-21d4-4be3-a97f-e172c1fe5332\",                        [{\"hovertemplate\":\"<b>%{hovertext}</b><br><br>average_daily_orders=%{x}<br>population=%{y}<br>area=%{marker.size}<extra></extra>\",\"hovertext\":[\"\\u00c5rsta\",\"Kungsholmen\",\"Uppsala\"],\"legendgroup\":\"\",\"marker\":{\"color\":\"#636efa\",\"size\":[0.014816072484274906,0.011084438297892345,0.008719796580701865],\"sizemode\":\"area\",\"sizeref\":4.115575690076363e-06,\"symbol\":\"circle\"},\"mode\":\"markers\",\"name\":\"\",\"orientation\":\"v\",\"showlegend\":false,\"x\":[31.61,50.5,14.27],\"xaxis\":\"x\",\"y\":[230293,277151,76421],\"yaxis\":\"y\",\"type\":\"scatter\"},{\"hovertemplate\":\"<b>OLS trendline</b><br>population = 5494.96 * average_daily_orders + 18086.9<br>R<sup>2</sup>=0.899073<br><br>average_daily_orders=%{x}<br>population=%{y} <b>(trend)</b><extra></extra>\",\"legendgroup\":\"\",\"marker\":{\"color\":\"#636efa\",\"symbol\":\"circle\"},\"mode\":\"lines\",\"name\":\"\",\"showlegend\":false,\"x\":[14.27,31.61,50.5],\"xaxis\":\"x\",\"y\":[96499.97849522508,191782.6034472204,295582.4180575544],\"yaxis\":\"y\",\"type\":\"scatter\"}],                        {\"template\":{\"data\":{\"histogram2dcontour\":[{\"type\":\"histogram2dcontour\",\"colorbar\":{\"outlinewidth\":0,\"ticks\":\"\"},\"colorscale\":[[0.0,\"#0d0887\"],[0.1111111111111111,\"#46039f\"],[0.2222222222222222,\"#7201a8\"],[0.3333333333333333,\"#9c179e\"],[0.4444444444444444,\"#bd3786\"],[0.5555555555555556,\"#d8576b\"],[0.6666666666666666,\"#ed7953\"],[0.7777777777777778,\"#fb9f3a\"],[0.8888888888888888,\"#fdca26\"],[1.0,\"#f0f921\"]]}],\"choropleth\":[{\"type\":\"choropleth\",\"colorbar\":{\"outlinewidth\":0,\"ticks\":\"\"}}],\"histogram2d\":[{\"type\":\"histogram2d\",\"colorbar\":{\"outlinewidth\":0,\"ticks\":\"\"},\"colorscale\":[[0.0,\"#0d0887\"],[0.1111111111111111,\"#46039f\"],[0.2222222222222222,\"#7201a8\"],[0.3333333333333333,\"#9c179e\"],[0.4444444444444444,\"#bd3786\"],[0.5555555555555556,\"#d8576b\"],[0.6666666666666666,\"#ed7953\"],[0.7777777777777778,\"#fb9f3a\"],[0.8888888888888888,\"#fdca26\"],[1.0,\"#f0f921\"]]}],\"heatmap\":[{\"type\":\"heatmap\",\"colorbar\":{\"outlinewidth\":0,\"ticks\":\"\"},\"colorscale\":[[0.0,\"#0d0887\"],[0.1111111111111111,\"#46039f\"],[0.2222222222222222,\"#7201a8\"],[0.3333333333333333,\"#9c179e\"],[0.4444444444444444,\"#bd3786\"],[0.5555555555555556,\"#d8576b\"],[0.6666666666666666,\"#ed7953\"],[0.7777777777777778,\"#fb9f3a\"],[0.8888888888888888,\"#fdca26\"],[1.0,\"#f0f921\"]]}],\"heatmapgl\":[{\"type\":\"heatmapgl\",\"colorbar\":{\"outlinewidth\":0,\"ticks\":\"\"},\"colorscale\":[[0.0,\"#0d0887\"],[0.1111111111111111,\"#46039f\"],[0.2222222222222222,\"#7201a8\"],[0.3333333333333333,\"#9c179e\"],[0.4444444444444444,\"#bd3786\"],[0.5555555555555556,\"#d8576b\"],[0.6666666666666666,\"#ed7953\"],[0.7777777777777778,\"#fb9f3a\"],[0.8888888888888888,\"#fdca26\"],[1.0,\"#f0f921\"]]}],\"contourcarpet\":[{\"type\":\"contourcarpet\",\"colorbar\":{\"outlinewidth\":0,\"ticks\":\"\"}}],\"contour\":[{\"type\":\"contour\",\"colorbar\":{\"outlinewidth\":0,\"ticks\":\"\"},\"colorscale\":[[0.0,\"#0d0887\"],[0.1111111111111111,\"#46039f\"],[0.2222222222222222,\"#7201a8\"],[0.3333333333333333,\"#9c179e\"],[0.4444444444444444,\"#bd3786\"],[0.5555555555555556,\"#d8576b\"],[0.6666666666666666,\"#ed7953\"],[0.7777777777777778,\"#fb9f3a\"],[0.8888888888888888,\"#fdca26\"],[1.0,\"#f0f921\"]]}],\"surface\":[{\"type\":\"surface\",\"colorbar\":{\"outlinewidth\":0,\"ticks\":\"\"},\"colorscale\":[[0.0,\"#0d0887\"],[0.1111111111111111,\"#46039f\"],[0.2222222222222222,\"#7201a8\"],[0.3333333333333333,\"#9c179e\"],[0.4444444444444444,\"#bd3786\"],[0.5555555555555556,\"#d8576b\"],[0.6666666666666666,\"#ed7953\"],[0.7777777777777778,\"#fb9f3a\"],[0.8888888888888888,\"#fdca26\"],[1.0,\"#f0f921\"]]}],\"mesh3d\":[{\"type\":\"mesh3d\",\"colorbar\":{\"outlinewidth\":0,\"ticks\":\"\"}}],\"scatter\":[{\"fillpattern\":{\"fillmode\":\"overlay\",\"size\":10,\"solidity\":0.2},\"type\":\"scatter\"}],\"parcoords\":[{\"type\":\"parcoords\",\"line\":{\"colorbar\":{\"outlinewidth\":0,\"ticks\":\"\"}}}],\"scatterpolargl\":[{\"type\":\"scatterpolargl\",\"marker\":{\"colorbar\":{\"outlinewidth\":0,\"ticks\":\"\"}}}],\"bar\":[{\"error_x\":{\"color\":\"#2a3f5f\"},\"error_y\":{\"color\":\"#2a3f5f\"},\"marker\":{\"line\":{\"color\":\"#E5ECF6\",\"width\":0.5},\"pattern\":{\"fillmode\":\"overlay\",\"size\":10,\"solidity\":0.2}},\"type\":\"bar\"}],\"scattergeo\":[{\"type\":\"scattergeo\",\"marker\":{\"colorbar\":{\"outlinewidth\":0,\"ticks\":\"\"}}}],\"scatterpolar\":[{\"type\":\"scatterpolar\",\"marker\":{\"colorbar\":{\"outlinewidth\":0,\"ticks\":\"\"}}}],\"histogram\":[{\"marker\":{\"pattern\":{\"fillmode\":\"overlay\",\"size\":10,\"solidity\":0.2}},\"type\":\"histogram\"}],\"scattergl\":[{\"type\":\"scattergl\",\"marker\":{\"colorbar\":{\"outlinewidth\":0,\"ticks\":\"\"}}}],\"scatter3d\":[{\"type\":\"scatter3d\",\"line\":{\"colorbar\":{\"outlinewidth\":0,\"ticks\":\"\"}},\"marker\":{\"colorbar\":{\"outlinewidth\":0,\"ticks\":\"\"}}}],\"scattermapbox\":[{\"type\":\"scattermapbox\",\"marker\":{\"colorbar\":{\"outlinewidth\":0,\"ticks\":\"\"}}}],\"scatterternary\":[{\"type\":\"scatterternary\",\"marker\":{\"colorbar\":{\"outlinewidth\":0,\"ticks\":\"\"}}}],\"scattercarpet\":[{\"type\":\"scattercarpet\",\"marker\":{\"colorbar\":{\"outlinewidth\":0,\"ticks\":\"\"}}}],\"carpet\":[{\"aaxis\":{\"endlinecolor\":\"#2a3f5f\",\"gridcolor\":\"white\",\"linecolor\":\"white\",\"minorgridcolor\":\"white\",\"startlinecolor\":\"#2a3f5f\"},\"baxis\":{\"endlinecolor\":\"#2a3f5f\",\"gridcolor\":\"white\",\"linecolor\":\"white\",\"minorgridcolor\":\"white\",\"startlinecolor\":\"#2a3f5f\"},\"type\":\"carpet\"}],\"table\":[{\"cells\":{\"fill\":{\"color\":\"#EBF0F8\"},\"line\":{\"color\":\"white\"}},\"header\":{\"fill\":{\"color\":\"#C8D4E3\"},\"line\":{\"color\":\"white\"}},\"type\":\"table\"}],\"barpolar\":[{\"marker\":{\"line\":{\"color\":\"#E5ECF6\",\"width\":0.5},\"pattern\":{\"fillmode\":\"overlay\",\"size\":10,\"solidity\":0.2}},\"type\":\"barpolar\"}],\"pie\":[{\"automargin\":true,\"type\":\"pie\"}]},\"layout\":{\"autotypenumbers\":\"strict\",\"colorway\":[\"#636efa\",\"#EF553B\",\"#00cc96\",\"#ab63fa\",\"#FFA15A\",\"#19d3f3\",\"#FF6692\",\"#B6E880\",\"#FF97FF\",\"#FECB52\"],\"font\":{\"color\":\"#2a3f5f\"},\"hovermode\":\"closest\",\"hoverlabel\":{\"align\":\"left\"},\"paper_bgcolor\":\"white\",\"plot_bgcolor\":\"#E5ECF6\",\"polar\":{\"bgcolor\":\"#E5ECF6\",\"angularaxis\":{\"gridcolor\":\"white\",\"linecolor\":\"white\",\"ticks\":\"\"},\"radialaxis\":{\"gridcolor\":\"white\",\"linecolor\":\"white\",\"ticks\":\"\"}},\"ternary\":{\"bgcolor\":\"#E5ECF6\",\"aaxis\":{\"gridcolor\":\"white\",\"linecolor\":\"white\",\"ticks\":\"\"},\"baxis\":{\"gridcolor\":\"white\",\"linecolor\":\"white\",\"ticks\":\"\"},\"caxis\":{\"gridcolor\":\"white\",\"linecolor\":\"white\",\"ticks\":\"\"}},\"coloraxis\":{\"colorbar\":{\"outlinewidth\":0,\"ticks\":\"\"}},\"colorscale\":{\"sequential\":[[0.0,\"#0d0887\"],[0.1111111111111111,\"#46039f\"],[0.2222222222222222,\"#7201a8\"],[0.3333333333333333,\"#9c179e\"],[0.4444444444444444,\"#bd3786\"],[0.5555555555555556,\"#d8576b\"],[0.6666666666666666,\"#ed7953\"],[0.7777777777777778,\"#fb9f3a\"],[0.8888888888888888,\"#fdca26\"],[1.0,\"#f0f921\"]],\"sequentialminus\":[[0.0,\"#0d0887\"],[0.1111111111111111,\"#46039f\"],[0.2222222222222222,\"#7201a8\"],[0.3333333333333333,\"#9c179e\"],[0.4444444444444444,\"#bd3786\"],[0.5555555555555556,\"#d8576b\"],[0.6666666666666666,\"#ed7953\"],[0.7777777777777778,\"#fb9f3a\"],[0.8888888888888888,\"#fdca26\"],[1.0,\"#f0f921\"]],\"diverging\":[[0,\"#8e0152\"],[0.1,\"#c51b7d\"],[0.2,\"#de77ae\"],[0.3,\"#f1b6da\"],[0.4,\"#fde0ef\"],[0.5,\"#f7f7f7\"],[0.6,\"#e6f5d0\"],[0.7,\"#b8e186\"],[0.8,\"#7fbc41\"],[0.9,\"#4d9221\"],[1,\"#276419\"]]},\"xaxis\":{\"gridcolor\":\"white\",\"linecolor\":\"white\",\"ticks\":\"\",\"title\":{\"standoff\":15},\"zerolinecolor\":\"white\",\"automargin\":true,\"zerolinewidth\":2},\"yaxis\":{\"gridcolor\":\"white\",\"linecolor\":\"white\",\"ticks\":\"\",\"title\":{\"standoff\":15},\"zerolinecolor\":\"white\",\"automargin\":true,\"zerolinewidth\":2},\"scene\":{\"xaxis\":{\"backgroundcolor\":\"#E5ECF6\",\"gridcolor\":\"white\",\"linecolor\":\"white\",\"showbackground\":true,\"ticks\":\"\",\"zerolinecolor\":\"white\",\"gridwidth\":2},\"yaxis\":{\"backgroundcolor\":\"#E5ECF6\",\"gridcolor\":\"white\",\"linecolor\":\"white\",\"showbackground\":true,\"ticks\":\"\",\"zerolinecolor\":\"white\",\"gridwidth\":2},\"zaxis\":{\"backgroundcolor\":\"#E5ECF6\",\"gridcolor\":\"white\",\"linecolor\":\"white\",\"showbackground\":true,\"ticks\":\"\",\"zerolinecolor\":\"white\",\"gridwidth\":2}},\"shapedefaults\":{\"line\":{\"color\":\"#2a3f5f\"}},\"annotationdefaults\":{\"arrowcolor\":\"#2a3f5f\",\"arrowhead\":0,\"arrowwidth\":1},\"geo\":{\"bgcolor\":\"white\",\"landcolor\":\"#E5ECF6\",\"subunitcolor\":\"white\",\"showland\":true,\"showlakes\":true,\"lakecolor\":\"white\"},\"title\":{\"x\":0.05},\"mapbox\":{\"style\":\"light\"}}},\"xaxis\":{\"anchor\":\"y\",\"domain\":[0.0,1.0],\"title\":{\"text\":\"average_daily_orders\"}},\"yaxis\":{\"anchor\":\"x\",\"domain\":[0.0,1.0],\"title\":{\"text\":\"population\"}},\"legend\":{\"tracegroupgap\":0,\"itemsizing\":\"constant\"},\"margin\":{\"t\":60}},                        {\"responsive\": true}                    ).then(function(){\n",
              "                            \n",
              "var gd = document.getElementById('5778de06-21d4-4be3-a97f-e172c1fe5332');\n",
              "var x = new MutationObserver(function (mutations, observer) {{\n",
              "        var display = window.getComputedStyle(gd).display;\n",
              "        if (!display || display === 'none') {{\n",
              "            console.log([gd, 'removed!']);\n",
              "            Plotly.purge(gd);\n",
              "            observer.disconnect();\n",
              "        }}\n",
              "}});\n",
              "\n",
              "// Listen for the removal of the full notebook cells\n",
              "var notebookContainer = gd.closest('#notebook-container');\n",
              "if (notebookContainer) {{\n",
              "    x.observe(notebookContainer, {childList: true});\n",
              "}}\n",
              "\n",
              "// Listen for the clearing of the current output cell\n",
              "var outputEl = gd.closest('.output');\n",
              "if (outputEl) {{\n",
              "    x.observe(outputEl, {childList: true});\n",
              "}}\n",
              "\n",
              "                        })                };                            </script>        </div>\n",
              "</body>\n",
              "</html>"
            ]
          },
          "metadata": {}
        }
      ]
    },
    {
      "cell_type": "code",
      "source": [
        "#@title\n",
        "fig = px.box(location_daily_data.sort_values(\"location\"), x=\"daily_orders\", y=\"location\")\n",
        "# fig.update_xaxes(range=[10, 60])\n",
        "fig.show()"
      ],
      "metadata": {
        "cellView": "form",
        "id": "7u0NkBa8z-Vh",
        "colab": {
          "base_uri": "https://localhost:8080/",
          "height": 542
        },
        "outputId": "60906e14-483e-40e6-82f1-f3a63fc4da52"
      },
      "execution_count": 64,
      "outputs": [
        {
          "output_type": "display_data",
          "data": {
            "text/html": [
              "<html>\n",
              "<head><meta charset=\"utf-8\" /></head>\n",
              "<body>\n",
              "    <div>            <script src=\"https://cdnjs.cloudflare.com/ajax/libs/mathjax/2.7.5/MathJax.js?config=TeX-AMS-MML_SVG\"></script><script type=\"text/javascript\">if (window.MathJax) {MathJax.Hub.Config({SVG: {font: \"STIX-Web\"}});}</script>                <script type=\"text/javascript\">window.PlotlyConfig = {MathJaxConfig: 'local'};</script>\n",
              "        <script src=\"https://cdn.plot.ly/plotly-2.11.1.min.js\"></script>                <div id=\"b95ac585-b415-4e91-9e5c-b0887c6df20b\" class=\"plotly-graph-div\" style=\"height:525px; width:100%;\"></div>            <script type=\"text/javascript\">                                    window.PLOTLYENV=window.PLOTLYENV || {};                                    if (document.getElementById(\"b95ac585-b415-4e91-9e5c-b0887c6df20b\")) {                    Plotly.newPlot(                        \"b95ac585-b415-4e91-9e5c-b0887c6df20b\",                        [{\"alignmentgroup\":\"True\",\"hovertemplate\":\"daily_orders=%{x}<br>location=%{y}<extra></extra>\",\"legendgroup\":\"\",\"marker\":{\"color\":\"#636efa\"},\"name\":\"\",\"notched\":false,\"offsetgroup\":\"\",\"orientation\":\"h\",\"showlegend\":false,\"x\":[47,57,81,68,16,58,52,83,74,76,14,55,18,76,39,61,49,42,64,56,32,43,8,22,33,87,57,50,64,18,18,53,96,75,16,65,92,58,69,43,53,91,12,72,44,16,55,3,7,47,54,75,50,51,74,39,23,11,14,6,13,11,5,9,18,13,15,11,19,29,14,10,14,12,12,20,14,14,16,15,9,10,11,18,17,19,9,12,11,11,12,15,8,20,21,8,10,14,8,11,13,25,14,22,22,11,20,16,19,13,11,21,2,1,13,5,9,9,4,26,5,40,39,30,28,31,45,46,28,43,40,23,56,46,35,43,36,51,8,34,50,38,6,38,54,41,37,41,13,29,31,56,44,27,42,53,21,39,50,35,8,35,26,65,28,40,42,5],\"x0\":\" \",\"xaxis\":\"x\",\"y\":[\"Kungsholmen\",\"Kungsholmen\",\"Kungsholmen\",\"Kungsholmen\",\"Kungsholmen\",\"Kungsholmen\",\"Kungsholmen\",\"Kungsholmen\",\"Kungsholmen\",\"Kungsholmen\",\"Kungsholmen\",\"Kungsholmen\",\"Kungsholmen\",\"Kungsholmen\",\"Kungsholmen\",\"Kungsholmen\",\"Kungsholmen\",\"Kungsholmen\",\"Kungsholmen\",\"Kungsholmen\",\"Kungsholmen\",\"Kungsholmen\",\"Kungsholmen\",\"Kungsholmen\",\"Kungsholmen\",\"Kungsholmen\",\"Kungsholmen\",\"Kungsholmen\",\"Kungsholmen\",\"Kungsholmen\",\"Kungsholmen\",\"Kungsholmen\",\"Kungsholmen\",\"Kungsholmen\",\"Kungsholmen\",\"Kungsholmen\",\"Kungsholmen\",\"Kungsholmen\",\"Kungsholmen\",\"Kungsholmen\",\"Kungsholmen\",\"Kungsholmen\",\"Kungsholmen\",\"Kungsholmen\",\"Kungsholmen\",\"Kungsholmen\",\"Kungsholmen\",\"Kungsholmen\",\"Kungsholmen\",\"Kungsholmen\",\"Kungsholmen\",\"Kungsholmen\",\"Kungsholmen\",\"Kungsholmen\",\"Kungsholmen\",\"Kungsholmen\",\"Uppsala\",\"Uppsala\",\"Uppsala\",\"Uppsala\",\"Uppsala\",\"Uppsala\",\"Uppsala\",\"Uppsala\",\"Uppsala\",\"Uppsala\",\"Uppsala\",\"Uppsala\",\"Uppsala\",\"Uppsala\",\"Uppsala\",\"Uppsala\",\"Uppsala\",\"Uppsala\",\"Uppsala\",\"Uppsala\",\"Uppsala\",\"Uppsala\",\"Uppsala\",\"Uppsala\",\"Uppsala\",\"Uppsala\",\"Uppsala\",\"Uppsala\",\"Uppsala\",\"Uppsala\",\"Uppsala\",\"Uppsala\",\"Uppsala\",\"Uppsala\",\"Uppsala\",\"Uppsala\",\"Uppsala\",\"Uppsala\",\"Uppsala\",\"Uppsala\",\"Uppsala\",\"Uppsala\",\"Uppsala\",\"Uppsala\",\"Uppsala\",\"Uppsala\",\"Uppsala\",\"Uppsala\",\"Uppsala\",\"Uppsala\",\"Uppsala\",\"Uppsala\",\"Uppsala\",\"Uppsala\",\"Uppsala\",\"Uppsala\",\"\\u00c5rsta\",\"\\u00c5rsta\",\"\\u00c5rsta\",\"\\u00c5rsta\",\"\\u00c5rsta\",\"\\u00c5rsta\",\"\\u00c5rsta\",\"\\u00c5rsta\",\"\\u00c5rsta\",\"\\u00c5rsta\",\"\\u00c5rsta\",\"\\u00c5rsta\",\"\\u00c5rsta\",\"\\u00c5rsta\",\"\\u00c5rsta\",\"\\u00c5rsta\",\"\\u00c5rsta\",\"\\u00c5rsta\",\"\\u00c5rsta\",\"\\u00c5rsta\",\"\\u00c5rsta\",\"\\u00c5rsta\",\"\\u00c5rsta\",\"\\u00c5rsta\",\"\\u00c5rsta\",\"\\u00c5rsta\",\"\\u00c5rsta\",\"\\u00c5rsta\",\"\\u00c5rsta\",\"\\u00c5rsta\",\"\\u00c5rsta\",\"\\u00c5rsta\",\"\\u00c5rsta\",\"\\u00c5rsta\",\"\\u00c5rsta\",\"\\u00c5rsta\",\"\\u00c5rsta\",\"\\u00c5rsta\",\"\\u00c5rsta\",\"\\u00c5rsta\",\"\\u00c5rsta\",\"\\u00c5rsta\",\"\\u00c5rsta\",\"\\u00c5rsta\",\"\\u00c5rsta\",\"\\u00c5rsta\",\"\\u00c5rsta\",\"\\u00c5rsta\",\"\\u00c5rsta\",\"\\u00c5rsta\",\"\\u00c5rsta\",\"\\u00c5rsta\",\"\\u00c5rsta\",\"\\u00c5rsta\",\"\\u00c5rsta\",\"\\u00c5rsta\"],\"y0\":\" \",\"yaxis\":\"y\",\"type\":\"box\"}],                        {\"template\":{\"data\":{\"histogram2dcontour\":[{\"type\":\"histogram2dcontour\",\"colorbar\":{\"outlinewidth\":0,\"ticks\":\"\"},\"colorscale\":[[0.0,\"#0d0887\"],[0.1111111111111111,\"#46039f\"],[0.2222222222222222,\"#7201a8\"],[0.3333333333333333,\"#9c179e\"],[0.4444444444444444,\"#bd3786\"],[0.5555555555555556,\"#d8576b\"],[0.6666666666666666,\"#ed7953\"],[0.7777777777777778,\"#fb9f3a\"],[0.8888888888888888,\"#fdca26\"],[1.0,\"#f0f921\"]]}],\"choropleth\":[{\"type\":\"choropleth\",\"colorbar\":{\"outlinewidth\":0,\"ticks\":\"\"}}],\"histogram2d\":[{\"type\":\"histogram2d\",\"colorbar\":{\"outlinewidth\":0,\"ticks\":\"\"},\"colorscale\":[[0.0,\"#0d0887\"],[0.1111111111111111,\"#46039f\"],[0.2222222222222222,\"#7201a8\"],[0.3333333333333333,\"#9c179e\"],[0.4444444444444444,\"#bd3786\"],[0.5555555555555556,\"#d8576b\"],[0.6666666666666666,\"#ed7953\"],[0.7777777777777778,\"#fb9f3a\"],[0.8888888888888888,\"#fdca26\"],[1.0,\"#f0f921\"]]}],\"heatmap\":[{\"type\":\"heatmap\",\"colorbar\":{\"outlinewidth\":0,\"ticks\":\"\"},\"colorscale\":[[0.0,\"#0d0887\"],[0.1111111111111111,\"#46039f\"],[0.2222222222222222,\"#7201a8\"],[0.3333333333333333,\"#9c179e\"],[0.4444444444444444,\"#bd3786\"],[0.5555555555555556,\"#d8576b\"],[0.6666666666666666,\"#ed7953\"],[0.7777777777777778,\"#fb9f3a\"],[0.8888888888888888,\"#fdca26\"],[1.0,\"#f0f921\"]]}],\"heatmapgl\":[{\"type\":\"heatmapgl\",\"colorbar\":{\"outlinewidth\":0,\"ticks\":\"\"},\"colorscale\":[[0.0,\"#0d0887\"],[0.1111111111111111,\"#46039f\"],[0.2222222222222222,\"#7201a8\"],[0.3333333333333333,\"#9c179e\"],[0.4444444444444444,\"#bd3786\"],[0.5555555555555556,\"#d8576b\"],[0.6666666666666666,\"#ed7953\"],[0.7777777777777778,\"#fb9f3a\"],[0.8888888888888888,\"#fdca26\"],[1.0,\"#f0f921\"]]}],\"contourcarpet\":[{\"type\":\"contourcarpet\",\"colorbar\":{\"outlinewidth\":0,\"ticks\":\"\"}}],\"contour\":[{\"type\":\"contour\",\"colorbar\":{\"outlinewidth\":0,\"ticks\":\"\"},\"colorscale\":[[0.0,\"#0d0887\"],[0.1111111111111111,\"#46039f\"],[0.2222222222222222,\"#7201a8\"],[0.3333333333333333,\"#9c179e\"],[0.4444444444444444,\"#bd3786\"],[0.5555555555555556,\"#d8576b\"],[0.6666666666666666,\"#ed7953\"],[0.7777777777777778,\"#fb9f3a\"],[0.8888888888888888,\"#fdca26\"],[1.0,\"#f0f921\"]]}],\"surface\":[{\"type\":\"surface\",\"colorbar\":{\"outlinewidth\":0,\"ticks\":\"\"},\"colorscale\":[[0.0,\"#0d0887\"],[0.1111111111111111,\"#46039f\"],[0.2222222222222222,\"#7201a8\"],[0.3333333333333333,\"#9c179e\"],[0.4444444444444444,\"#bd3786\"],[0.5555555555555556,\"#d8576b\"],[0.6666666666666666,\"#ed7953\"],[0.7777777777777778,\"#fb9f3a\"],[0.8888888888888888,\"#fdca26\"],[1.0,\"#f0f921\"]]}],\"mesh3d\":[{\"type\":\"mesh3d\",\"colorbar\":{\"outlinewidth\":0,\"ticks\":\"\"}}],\"scatter\":[{\"fillpattern\":{\"fillmode\":\"overlay\",\"size\":10,\"solidity\":0.2},\"type\":\"scatter\"}],\"parcoords\":[{\"type\":\"parcoords\",\"line\":{\"colorbar\":{\"outlinewidth\":0,\"ticks\":\"\"}}}],\"scatterpolargl\":[{\"type\":\"scatterpolargl\",\"marker\":{\"colorbar\":{\"outlinewidth\":0,\"ticks\":\"\"}}}],\"bar\":[{\"error_x\":{\"color\":\"#2a3f5f\"},\"error_y\":{\"color\":\"#2a3f5f\"},\"marker\":{\"line\":{\"color\":\"#E5ECF6\",\"width\":0.5},\"pattern\":{\"fillmode\":\"overlay\",\"size\":10,\"solidity\":0.2}},\"type\":\"bar\"}],\"scattergeo\":[{\"type\":\"scattergeo\",\"marker\":{\"colorbar\":{\"outlinewidth\":0,\"ticks\":\"\"}}}],\"scatterpolar\":[{\"type\":\"scatterpolar\",\"marker\":{\"colorbar\":{\"outlinewidth\":0,\"ticks\":\"\"}}}],\"histogram\":[{\"marker\":{\"pattern\":{\"fillmode\":\"overlay\",\"size\":10,\"solidity\":0.2}},\"type\":\"histogram\"}],\"scattergl\":[{\"type\":\"scattergl\",\"marker\":{\"colorbar\":{\"outlinewidth\":0,\"ticks\":\"\"}}}],\"scatter3d\":[{\"type\":\"scatter3d\",\"line\":{\"colorbar\":{\"outlinewidth\":0,\"ticks\":\"\"}},\"marker\":{\"colorbar\":{\"outlinewidth\":0,\"ticks\":\"\"}}}],\"scattermapbox\":[{\"type\":\"scattermapbox\",\"marker\":{\"colorbar\":{\"outlinewidth\":0,\"ticks\":\"\"}}}],\"scatterternary\":[{\"type\":\"scatterternary\",\"marker\":{\"colorbar\":{\"outlinewidth\":0,\"ticks\":\"\"}}}],\"scattercarpet\":[{\"type\":\"scattercarpet\",\"marker\":{\"colorbar\":{\"outlinewidth\":0,\"ticks\":\"\"}}}],\"carpet\":[{\"aaxis\":{\"endlinecolor\":\"#2a3f5f\",\"gridcolor\":\"white\",\"linecolor\":\"white\",\"minorgridcolor\":\"white\",\"startlinecolor\":\"#2a3f5f\"},\"baxis\":{\"endlinecolor\":\"#2a3f5f\",\"gridcolor\":\"white\",\"linecolor\":\"white\",\"minorgridcolor\":\"white\",\"startlinecolor\":\"#2a3f5f\"},\"type\":\"carpet\"}],\"table\":[{\"cells\":{\"fill\":{\"color\":\"#EBF0F8\"},\"line\":{\"color\":\"white\"}},\"header\":{\"fill\":{\"color\":\"#C8D4E3\"},\"line\":{\"color\":\"white\"}},\"type\":\"table\"}],\"barpolar\":[{\"marker\":{\"line\":{\"color\":\"#E5ECF6\",\"width\":0.5},\"pattern\":{\"fillmode\":\"overlay\",\"size\":10,\"solidity\":0.2}},\"type\":\"barpolar\"}],\"pie\":[{\"automargin\":true,\"type\":\"pie\"}]},\"layout\":{\"autotypenumbers\":\"strict\",\"colorway\":[\"#636efa\",\"#EF553B\",\"#00cc96\",\"#ab63fa\",\"#FFA15A\",\"#19d3f3\",\"#FF6692\",\"#B6E880\",\"#FF97FF\",\"#FECB52\"],\"font\":{\"color\":\"#2a3f5f\"},\"hovermode\":\"closest\",\"hoverlabel\":{\"align\":\"left\"},\"paper_bgcolor\":\"white\",\"plot_bgcolor\":\"#E5ECF6\",\"polar\":{\"bgcolor\":\"#E5ECF6\",\"angularaxis\":{\"gridcolor\":\"white\",\"linecolor\":\"white\",\"ticks\":\"\"},\"radialaxis\":{\"gridcolor\":\"white\",\"linecolor\":\"white\",\"ticks\":\"\"}},\"ternary\":{\"bgcolor\":\"#E5ECF6\",\"aaxis\":{\"gridcolor\":\"white\",\"linecolor\":\"white\",\"ticks\":\"\"},\"baxis\":{\"gridcolor\":\"white\",\"linecolor\":\"white\",\"ticks\":\"\"},\"caxis\":{\"gridcolor\":\"white\",\"linecolor\":\"white\",\"ticks\":\"\"}},\"coloraxis\":{\"colorbar\":{\"outlinewidth\":0,\"ticks\":\"\"}},\"colorscale\":{\"sequential\":[[0.0,\"#0d0887\"],[0.1111111111111111,\"#46039f\"],[0.2222222222222222,\"#7201a8\"],[0.3333333333333333,\"#9c179e\"],[0.4444444444444444,\"#bd3786\"],[0.5555555555555556,\"#d8576b\"],[0.6666666666666666,\"#ed7953\"],[0.7777777777777778,\"#fb9f3a\"],[0.8888888888888888,\"#fdca26\"],[1.0,\"#f0f921\"]],\"sequentialminus\":[[0.0,\"#0d0887\"],[0.1111111111111111,\"#46039f\"],[0.2222222222222222,\"#7201a8\"],[0.3333333333333333,\"#9c179e\"],[0.4444444444444444,\"#bd3786\"],[0.5555555555555556,\"#d8576b\"],[0.6666666666666666,\"#ed7953\"],[0.7777777777777778,\"#fb9f3a\"],[0.8888888888888888,\"#fdca26\"],[1.0,\"#f0f921\"]],\"diverging\":[[0,\"#8e0152\"],[0.1,\"#c51b7d\"],[0.2,\"#de77ae\"],[0.3,\"#f1b6da\"],[0.4,\"#fde0ef\"],[0.5,\"#f7f7f7\"],[0.6,\"#e6f5d0\"],[0.7,\"#b8e186\"],[0.8,\"#7fbc41\"],[0.9,\"#4d9221\"],[1,\"#276419\"]]},\"xaxis\":{\"gridcolor\":\"white\",\"linecolor\":\"white\",\"ticks\":\"\",\"title\":{\"standoff\":15},\"zerolinecolor\":\"white\",\"automargin\":true,\"zerolinewidth\":2},\"yaxis\":{\"gridcolor\":\"white\",\"linecolor\":\"white\",\"ticks\":\"\",\"title\":{\"standoff\":15},\"zerolinecolor\":\"white\",\"automargin\":true,\"zerolinewidth\":2},\"scene\":{\"xaxis\":{\"backgroundcolor\":\"#E5ECF6\",\"gridcolor\":\"white\",\"linecolor\":\"white\",\"showbackground\":true,\"ticks\":\"\",\"zerolinecolor\":\"white\",\"gridwidth\":2},\"yaxis\":{\"backgroundcolor\":\"#E5ECF6\",\"gridcolor\":\"white\",\"linecolor\":\"white\",\"showbackground\":true,\"ticks\":\"\",\"zerolinecolor\":\"white\",\"gridwidth\":2},\"zaxis\":{\"backgroundcolor\":\"#E5ECF6\",\"gridcolor\":\"white\",\"linecolor\":\"white\",\"showbackground\":true,\"ticks\":\"\",\"zerolinecolor\":\"white\",\"gridwidth\":2}},\"shapedefaults\":{\"line\":{\"color\":\"#2a3f5f\"}},\"annotationdefaults\":{\"arrowcolor\":\"#2a3f5f\",\"arrowhead\":0,\"arrowwidth\":1},\"geo\":{\"bgcolor\":\"white\",\"landcolor\":\"#E5ECF6\",\"subunitcolor\":\"white\",\"showland\":true,\"showlakes\":true,\"lakecolor\":\"white\"},\"title\":{\"x\":0.05},\"mapbox\":{\"style\":\"light\"}}},\"xaxis\":{\"anchor\":\"y\",\"domain\":[0.0,1.0],\"title\":{\"text\":\"daily_orders\"}},\"yaxis\":{\"anchor\":\"x\",\"domain\":[0.0,1.0],\"title\":{\"text\":\"location\"}},\"legend\":{\"tracegroupgap\":0},\"margin\":{\"t\":60},\"boxmode\":\"group\"},                        {\"responsive\": true}                    ).then(function(){\n",
              "                            \n",
              "var gd = document.getElementById('b95ac585-b415-4e91-9e5c-b0887c6df20b');\n",
              "var x = new MutationObserver(function (mutations, observer) {{\n",
              "        var display = window.getComputedStyle(gd).display;\n",
              "        if (!display || display === 'none') {{\n",
              "            console.log([gd, 'removed!']);\n",
              "            Plotly.purge(gd);\n",
              "            observer.disconnect();\n",
              "        }}\n",
              "}});\n",
              "\n",
              "// Listen for the removal of the full notebook cells\n",
              "var notebookContainer = gd.closest('#notebook-container');\n",
              "if (notebookContainer) {{\n",
              "    x.observe(notebookContainer, {childList: true});\n",
              "}}\n",
              "\n",
              "// Listen for the clearing of the current output cell\n",
              "var outputEl = gd.closest('.output');\n",
              "if (outputEl) {{\n",
              "    x.observe(outputEl, {childList: true});\n",
              "}}\n",
              "\n",
              "                        })                };                            </script>        </div>\n",
              "</body>\n",
              "</html>"
            ]
          },
          "metadata": {}
        }
      ]
    },
    {
      "cell_type": "code",
      "source": [
        "orders_data.corr()"
      ],
      "metadata": {
        "id": "wy7ugj3PmmGL",
        "colab": {
          "base_uri": "https://localhost:8080/",
          "height": 143
        },
        "outputId": "00a943ca-6240-4111-ed0f-4606266893fb"
      },
      "execution_count": 65,
      "outputs": [
        {
          "output_type": "execute_result",
          "data": {
            "text/plain": [
              "                      average_daily_orders  population      area\n",
              "average_daily_orders              1.000000    0.948195  0.361763\n",
              "population                        0.948195    1.000000  0.639194\n",
              "area                              0.361763    0.639194  1.000000"
            ],
            "text/html": [
              "\n",
              "  <div id=\"df-f3025c10-e060-4810-8e54-169c03d44764\">\n",
              "    <div class=\"colab-df-container\">\n",
              "      <div>\n",
              "<style scoped>\n",
              "    .dataframe tbody tr th:only-of-type {\n",
              "        vertical-align: middle;\n",
              "    }\n",
              "\n",
              "    .dataframe tbody tr th {\n",
              "        vertical-align: top;\n",
              "    }\n",
              "\n",
              "    .dataframe thead th {\n",
              "        text-align: right;\n",
              "    }\n",
              "</style>\n",
              "<table border=\"1\" class=\"dataframe\">\n",
              "  <thead>\n",
              "    <tr style=\"text-align: right;\">\n",
              "      <th></th>\n",
              "      <th>average_daily_orders</th>\n",
              "      <th>population</th>\n",
              "      <th>area</th>\n",
              "    </tr>\n",
              "  </thead>\n",
              "  <tbody>\n",
              "    <tr>\n",
              "      <th>average_daily_orders</th>\n",
              "      <td>1.000000</td>\n",
              "      <td>0.948195</td>\n",
              "      <td>0.361763</td>\n",
              "    </tr>\n",
              "    <tr>\n",
              "      <th>population</th>\n",
              "      <td>0.948195</td>\n",
              "      <td>1.000000</td>\n",
              "      <td>0.639194</td>\n",
              "    </tr>\n",
              "    <tr>\n",
              "      <th>area</th>\n",
              "      <td>0.361763</td>\n",
              "      <td>0.639194</td>\n",
              "      <td>1.000000</td>\n",
              "    </tr>\n",
              "  </tbody>\n",
              "</table>\n",
              "</div>\n",
              "      <button class=\"colab-df-convert\" onclick=\"convertToInteractive('df-f3025c10-e060-4810-8e54-169c03d44764')\"\n",
              "              title=\"Convert this dataframe to an interactive table.\"\n",
              "              style=\"display:none;\">\n",
              "        \n",
              "  <svg xmlns=\"http://www.w3.org/2000/svg\" height=\"24px\"viewBox=\"0 0 24 24\"\n",
              "       width=\"24px\">\n",
              "    <path d=\"M0 0h24v24H0V0z\" fill=\"none\"/>\n",
              "    <path d=\"M18.56 5.44l.94 2.06.94-2.06 2.06-.94-2.06-.94-.94-2.06-.94 2.06-2.06.94zm-11 1L8.5 8.5l.94-2.06 2.06-.94-2.06-.94L8.5 2.5l-.94 2.06-2.06.94zm10 10l.94 2.06.94-2.06 2.06-.94-2.06-.94-.94-2.06-.94 2.06-2.06.94z\"/><path d=\"M17.41 7.96l-1.37-1.37c-.4-.4-.92-.59-1.43-.59-.52 0-1.04.2-1.43.59L10.3 9.45l-7.72 7.72c-.78.78-.78 2.05 0 2.83L4 21.41c.39.39.9.59 1.41.59.51 0 1.02-.2 1.41-.59l7.78-7.78 2.81-2.81c.8-.78.8-2.07 0-2.86zM5.41 20L4 18.59l7.72-7.72 1.47 1.35L5.41 20z\"/>\n",
              "  </svg>\n",
              "      </button>\n",
              "      \n",
              "  <style>\n",
              "    .colab-df-container {\n",
              "      display:flex;\n",
              "      flex-wrap:wrap;\n",
              "      gap: 12px;\n",
              "    }\n",
              "\n",
              "    .colab-df-convert {\n",
              "      background-color: #E8F0FE;\n",
              "      border: none;\n",
              "      border-radius: 50%;\n",
              "      cursor: pointer;\n",
              "      display: none;\n",
              "      fill: #1967D2;\n",
              "      height: 32px;\n",
              "      padding: 0 0 0 0;\n",
              "      width: 32px;\n",
              "    }\n",
              "\n",
              "    .colab-df-convert:hover {\n",
              "      background-color: #E2EBFA;\n",
              "      box-shadow: 0px 1px 2px rgba(60, 64, 67, 0.3), 0px 1px 3px 1px rgba(60, 64, 67, 0.15);\n",
              "      fill: #174EA6;\n",
              "    }\n",
              "\n",
              "    [theme=dark] .colab-df-convert {\n",
              "      background-color: #3B4455;\n",
              "      fill: #D2E3FC;\n",
              "    }\n",
              "\n",
              "    [theme=dark] .colab-df-convert:hover {\n",
              "      background-color: #434B5C;\n",
              "      box-shadow: 0px 1px 3px 1px rgba(0, 0, 0, 0.15);\n",
              "      filter: drop-shadow(0px 1px 2px rgba(0, 0, 0, 0.3));\n",
              "      fill: #FFFFFF;\n",
              "    }\n",
              "  </style>\n",
              "\n",
              "      <script>\n",
              "        const buttonEl =\n",
              "          document.querySelector('#df-f3025c10-e060-4810-8e54-169c03d44764 button.colab-df-convert');\n",
              "        buttonEl.style.display =\n",
              "          google.colab.kernel.accessAllowed ? 'block' : 'none';\n",
              "\n",
              "        async function convertToInteractive(key) {\n",
              "          const element = document.querySelector('#df-f3025c10-e060-4810-8e54-169c03d44764');\n",
              "          const dataTable =\n",
              "            await google.colab.kernel.invokeFunction('convertToInteractive',\n",
              "                                                     [key], {});\n",
              "          if (!dataTable) return;\n",
              "\n",
              "          const docLinkHtml = 'Like what you see? Visit the ' +\n",
              "            '<a target=\"_blank\" href=https://colab.research.google.com/notebooks/data_table.ipynb>data table notebook</a>'\n",
              "            + ' to learn more about interactive tables.';\n",
              "          element.innerHTML = '';\n",
              "          dataTable['output_type'] = 'display_data';\n",
              "          await google.colab.output.renderOutput(dataTable, element);\n",
              "          const docLink = document.createElement('div');\n",
              "          docLink.innerHTML = docLinkHtml;\n",
              "          element.appendChild(docLink);\n",
              "        }\n",
              "      </script>\n",
              "    </div>\n",
              "  </div>\n",
              "  "
            ]
          },
          "metadata": {},
          "execution_count": 65
        }
      ]
    },
    {
      "cell_type": "code",
      "source": [
        ""
      ],
      "metadata": {
        "id": "74Hp_8cDmrbU"
      },
      "execution_count": 65,
      "outputs": []
    }
  ]
}